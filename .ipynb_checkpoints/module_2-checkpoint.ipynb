{
 "cells": [
  {
   "cell_type": "markdown",
   "id": "cb9dbaed",
   "metadata": {},
   "source": [
    "### Write a Python program to sum of three given integers. However, if two values are equal sum will be zero."
   ]
  },
  {
   "cell_type": "markdown",
   "id": "10d9796c",
   "metadata": {},
   "source": [
    "a=int(input('Enter 1st number: '))\n",
    "b=int(input('Enter 2nd number: '))\n",
    "c=int(input('Enter 3rd number: '))\n",
    "if a==b or b==c or a==c:\n",
    "    print('sum=0')\n",
    "else:\n",
    "    sum=a+b+c\n",
    "    print(sum)"
   ]
  },
  {
   "cell_type": "markdown",
   "id": "55f9499d",
   "metadata": {},
   "source": [
    "### Write a Python program to test whether a passed letter is a vowel or not."
   ]
  },
  {
   "cell_type": "code",
   "execution_count": null,
   "id": "514b40e2",
   "metadata": {},
   "outputs": [],
   "source": [
    "a=input('Enter a letter: ')\n",
    "if a=='a' or a=='e'or a=='i' or a=='o' or a=='u':\n",
    "    print(f'{a} is vowel')\n",
    "else:\n",
    "    print(f'{a} is not vowel')"
   ]
  },
  {
   "cell_type": "markdown",
   "id": "0f927a3d",
   "metadata": {},
   "source": [
    "### Write python program that swap two number with temp variable and without temp variable."
   ]
  },
  {
   "cell_type": "code",
   "execution_count": 24,
   "id": "b57e38e4",
   "metadata": {},
   "outputs": [
    {
     "name": "stdout",
     "output_type": "stream",
     "text": [
      "Enter 1st number: 5\n",
      "enter 2nd number: 8\n",
      "before swapping a=5 b=8\n",
      "after swapping a=8 b=5\n"
     ]
    }
   ],
   "source": [
    "a=int(input('Enter 1st number: '))\n",
    "b=int(input('enter 2nd number: '))\n",
    "print(f'before swapping a={a} b={b}')\n",
    "temp=a\n",
    "a=b\n",
    "b=temp\n",
    "print(f'after swapping a={a} b={b}')\n",
    "\n"
   ]
  },
  {
   "cell_type": "markdown",
   "id": "b802d6d7",
   "metadata": {},
   "source": [
    "### Write a Python program to calculate the length of a string."
   ]
  },
  {
   "cell_type": "code",
   "execution_count": 29,
   "id": "81da44e5",
   "metadata": {},
   "outputs": [
    {
     "name": "stdout",
     "output_type": "stream",
     "text": [
      "Enter a paragraph: naresh kumar\n",
      "12\n"
     ]
    }
   ],
   "source": [
    "\n",
    "r=input('Enter a paragraph: ')\n",
    "k=len(r)\n",
    "print(k)"
   ]
  },
  {
   "cell_type": "markdown",
   "id": "1ab56ab4",
   "metadata": {},
   "source": [
    "### Write a Python program to find whether a given number is even or odd,print out an appropriate message to the user."
   ]
  },
  {
   "cell_type": "code",
   "execution_count": 31,
   "id": "5dae4031",
   "metadata": {},
   "outputs": [
    {
     "name": "stdout",
     "output_type": "stream",
     "text": [
      "Enter A Number: 3\n",
      "This Number Is Odd\n"
     ]
    }
   ],
   "source": [
    "\n",
    "number = int (input(\"Enter A Number: \"))\n",
    "if (number % 2) == 0:\n",
    "  print(\"This number is Even\")\n",
    "else:\n",
    "  print(\"This Number Is Odd\")"
   ]
  },
  {
   "cell_type": "markdown",
   "id": "33a9c442",
   "metadata": {},
   "source": [
    "### write a programme to find biggest number of given three values."
   ]
  },
  {
   "cell_type": "code",
   "execution_count": 32,
   "id": "75045c7d",
   "metadata": {},
   "outputs": [
    {
     "name": "stdout",
     "output_type": "stream",
     "text": [
      "n is a biggest number\n"
     ]
    }
   ],
   "source": [
    "\n",
    "l=17\n",
    "m=14\n",
    "n=19\n",
    "if l > m:\n",
    "    if l > n:\n",
    "        print('l is a biggest number')\n",
    "    else:\n",
    "        print('n is a biggest number')\n",
    "else:\n",
    "    print('m is a biggest number')"
   ]
  },
  {
   "cell_type": "code",
   "execution_count": 4,
   "id": "2b653c6e",
   "metadata": {},
   "outputs": [
    {
     "name": "stdout",
     "output_type": "stream",
     "text": [
      "Enter something here: hgy h h\n",
      "3\n"
     ]
    }
   ],
   "source": [
    "#to find word in string\n",
    "string=input('Enter something here: ')\n",
    "f=' '\n",
    "c=0\n",
    "for i in string:\n",
    "    if i==f:\n",
    "        c +=1\n",
    "else:\n",
    "  print(c+1)"
   ]
  },
  {
   "cell_type": "markdown",
   "id": "b8e1ae28",
   "metadata": {},
   "source": [
    "### Write a Python program that will return true if the two given integer values are equal or their sum or difference is 5."
   ]
  },
  {
   "cell_type": "code",
   "execution_count": 5,
   "id": "37dd06f3",
   "metadata": {},
   "outputs": [
    {
     "name": "stdout",
     "output_type": "stream",
     "text": [
      "Enter 1st Value: 5\n",
      "Enter 2nd Value: 3\n",
      "False\n"
     ]
    }
   ],
   "source": [
    "x=int(input('Enter 1st Value: '))\n",
    "y=int(input('Enter 2nd Value: '))\n",
    "if x==y or (x+y)==5 or (x-y)==5 or (y-x)==5:\n",
    "    print(True)\n",
    "else:\n",
    "    print(False)"
   ]
  },
  {
   "cell_type": "markdown",
   "id": "b6c40b97",
   "metadata": {},
   "source": [
    "### Write a python program to sum of the first n positive integers."
   ]
  },
  {
   "cell_type": "code",
   "execution_count": 7,
   "id": "e549f4ff",
   "metadata": {},
   "outputs": [
    {
     "name": "stdout",
     "output_type": "stream",
     "text": [
      "Enter a number: 10\n",
      "10 is positive int. 55.0\n"
     ]
    }
   ],
   "source": [
    "\n",
    "k=int(input('Enter a number: '))\n",
    "m=((k*(k+1))/2)\n",
    "print(f'{k} is positive int. {m}')"
   ]
  },
  {
   "cell_type": "markdown",
   "id": "3d873095",
   "metadata": {},
   "source": [
    "### Write a Python program to calculate the length of a string."
   ]
  },
  {
   "cell_type": "code",
   "execution_count": 8,
   "id": "c89198e2",
   "metadata": {},
   "outputs": [
    {
     "name": "stdout",
     "output_type": "stream",
     "text": [
      "Enter something here: hujdnf ndsfnhjdss ndsjfnndsjf jdnfjds\n",
      "37\n"
     ]
    }
   ],
   "source": [
    "\n",
    "k=input('Enter something here: ')\n",
    "s=0\n",
    "for i in k:\n",
    "    s += 1\n",
    "else:\n",
    "    print(s)"
   ]
  },
  {
   "cell_type": "markdown",
   "id": "5b7c65fa",
   "metadata": {},
   "source": [
    "### What is the purpose continue statement in python?"
   ]
  },
  {
   "cell_type": "code",
   "execution_count": 11,
   "id": "dd3a0819",
   "metadata": {},
   "outputs": [
    {
     "name": "stdout",
     "output_type": "stream",
     "text": [
      "0\n",
      "1\n",
      "2\n",
      "3\n",
      "4\n",
      "6\n",
      "7\n",
      "8\n",
      "9\n"
     ]
    }
   ],
   "source": [
    "\n",
    "for i in range(10):\n",
    "    if i==5:\n",
    "        continue\n",
    "    else:\n",
    "        print(i)"
   ]
  },
  {
   "cell_type": "markdown",
   "id": "7d6e51f1",
   "metadata": {},
   "source": [
    "### Write a Python program to add 'ing' at the end of a given string (length should be at least 3). If the given string already ends with 'ing' then add 'ly' instead if the string length of the given string is less than 3, leave it unchanged.\n"
   ]
  },
  {
   "cell_type": "code",
   "execution_count": 12,
   "id": "322ff4eb",
   "metadata": {},
   "outputs": [
    {
     "name": "stdout",
     "output_type": "stream",
     "text": [
      "Enter a word: typing\n",
      "typly\n"
     ]
    }
   ],
   "source": [
    "\n",
    "k=input('Enter a word: ')\n",
    "r=len(k)\n",
    "if r>3:\n",
    "    if k.endswith('ing'):\n",
    "        s=k.replace('ing','ly')\n",
    "        print(s)\n",
    "    else:\n",
    "        k+='ing'\n",
    "        print(k)"
   ]
  },
  {
   "cell_type": "markdown",
   "id": "fccf16c3",
   "metadata": {},
   "source": [
    "### Write a Python program to find the first appearance of the substring 'not' and 'poor' from a given string, if 'not' follows the 'poor', replace the whole 'not'...'poor' substring with 'good'. Return the resulting string"
   ]
  },
  {
   "cell_type": "code",
   "execution_count": null,
   "id": "18f15ca7",
   "metadata": {},
   "outputs": [],
   "source": [
    "\n",
    "a=input('Enter Something here: ')\n",
    "k=a.replace('not poor','good')\n",
    "print(k)"
   ]
  },
  {
   "cell_type": "markdown",
   "id": "03c32185",
   "metadata": {},
   "source": [
    "### Write a Python function to insert a string in the middle of a string."
   ]
  },
  {
   "cell_type": "code",
   "execution_count": null,
   "id": "f709a3bc",
   "metadata": {},
   "outputs": [],
   "source": [
    "\n",
    "k='hello .....! you are from rani'\n",
    "s='naresh'\n",
    "print(f'{k[:5]} {s} {k[12:]}')\n"
   ]
  },
  {
   "cell_type": "code",
   "execution_count": 1,
   "id": "2aeeb172",
   "metadata": {},
   "outputs": [
    {
     "name": "stdout",
     "output_type": "stream",
     "text": [
      "Enter something here: naresh k\n",
      "k hseran\n"
     ]
    }
   ],
   "source": [
    "#reverses a string if its length is a multiple of 4.\n",
    "s=input('Enter something here: ')\n",
    "k=len(s)\n",
    "if k % 4 == 0:\n",
    "    print(s[::-1])\n",
    "    \n",
    "else:\n",
    "    print('try again with other value')"
   ]
  },
  {
   "cell_type": "markdown",
   "id": "3cd4ca2e",
   "metadata": {},
   "source": [
    "### Write a Python program to get a string made of the first 2 and the last 2 chars from a given a string. If the string length is less than 2, return instead of the empty string."
   ]
  },
  {
   "cell_type": "code",
   "execution_count": 8,
   "id": "b8aa893e",
   "metadata": {},
   "outputs": [
    {
     "name": "stdout",
     "output_type": "stream",
     "text": [
      "Enter a string: lkj\n",
      "lkkj\n"
     ]
    }
   ],
   "source": [
    "\n",
    "s=input('Enter a string: ')\n",
    "k=len(s)\n",
    "if k > 2:\n",
    "    print(s[:2]+s[-2:])\n",
    "else:\n",
    "    pass\n",
    "    "
   ]
  },
  {
   "cell_type": "markdown",
   "id": "65aa9152",
   "metadata": {},
   "source": [
    "### Write a Python program to get a single string from two given strings, separated by a space and swap the first two characters of each string."
   ]
  },
  {
   "cell_type": "code",
   "execution_count": null,
   "id": "822c8aad",
   "metadata": {},
   "outputs": [],
   "source": [
    "\n",
    "\n",
    "k=input()\n",
    "m=input()\n",
    "l=' '\n",
    "print(m[:2]+ l +k[2:])\n",
    "print(k[:2]+ l +m[2:])"
   ]
  },
  {
   "cell_type": "markdown",
   "id": "57bdb5cd",
   "metadata": {},
   "source": [
    "### Write a Python program to get the Fibonacci series of given range."
   ]
  },
  {
   "cell_type": "code",
   "execution_count": null,
   "id": "78520380",
   "metadata": {},
   "outputs": [],
   "source": [
    "\n",
    "a=int(input())\n",
    "b=0\n",
    "c=1\n",
    "for i in range(2, a):\n",
    "    d=b+c\n",
    "    b=c\n",
    "    c=d\n",
    "    print(d)"
   ]
  },
  {
   "cell_type": "markdown",
   "id": "4e25cfc5",
   "metadata": {},
   "source": [
    "### Write a Python program to get the Factorial number of given number"
   ]
  },
  {
   "cell_type": "code",
   "execution_count": null,
   "id": "0b9c083b",
   "metadata": {},
   "outputs": [],
   "source": [
    "# Factorial number of given number\n",
    "\n",
    "num=int(input('Enter a number: '))\n",
    "factorial=1\n",
    "if num<0:\n",
    "  print(\"sorry factorial does not exits for nagetive number\")\n",
    "elif num==0:\n",
    "  print(\"the factorial of 0 is 1\")\n",
    "else:\n",
    "  for i in range(1, num+1):\n",
    "    factorial = factorial*i\n",
    "  print(\"the factorial of\",num,\"is\",factorial)"
   ]
  },
  {
   "cell_type": "code",
   "execution_count": null,
   "id": "0c68b79d",
   "metadata": {},
   "outputs": [],
   "source": []
  }
 ],
 "metadata": {
  "kernelspec": {
   "display_name": "Python 3 (ipykernel)",
   "language": "python",
   "name": "python3"
  },
  "language_info": {
   "codemirror_mode": {
    "name": "ipython",
    "version": 3
   },
   "file_extension": ".py",
   "mimetype": "text/x-python",
   "name": "python",
   "nbconvert_exporter": "python",
   "pygments_lexer": "ipython3",
   "version": "3.9.12"
  }
 },
 "nbformat": 4,
 "nbformat_minor": 5
}
