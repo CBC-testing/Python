{
 "cells": [
  {
   "cell_type": "code",
   "execution_count": 1,
   "id": "3a34bfa0",
   "metadata": {},
   "outputs": [
    {
     "name": "stdout",
     "output_type": "stream",
     "text": [
      "[2, 33, 22, 14]\n"
     ]
    }
   ],
   "source": [
    "#remove last object from a list\n",
    "\n",
    "#what is list1_[-1]\n",
    "l=[2, 33, 22, 14, 25]\n",
    "l.pop() #to remove last value or list\n",
    "#l.remove(25) to remove perticular a value\n",
    "#l.pop(-1) to remove last element of list using index number\n",
    "print(l)\n"
   ]
  },
  {
   "cell_type": "code",
   "execution_count": 5,
   "id": "c7595b9f",
   "metadata": {},
   "outputs": [
    {
     "name": "stdout",
     "output_type": "stream",
     "text": [
      "[5, 6, 8, 9, 5, 3, 1]\n"
     ]
    }
   ],
   "source": [
    "# Differentiate between append () and extend ()\n",
    "\n",
    "l=[5,6,8]\n",
    "l.append(9) #append is use for add a value in list & this value add at end of the list. at a time only one value add.\n",
    "l.extend([5,3,1]) ##extend is use for add a value in list & this value add at end of the list. at a time multi value add.\n",
    "print(l)"
   ]
  },
  {
   "cell_type": "code",
   "execution_count": 20,
   "id": "9160a970",
   "metadata": {},
   "outputs": [
    {
     "name": "stdout",
     "output_type": "stream",
     "text": [
      "[5, 4, 7, 9, 8, 6]\n"
     ]
    }
   ],
   "source": [
    "#Remove duplicates from a list\n",
    "\n",
    "m=[5,4,7,4,9,8,7,6]\n",
    "s=list()\n",
    "for i in m:\n",
    "    if i not in s:\n",
    "        s.append(i)\n",
    "else:\n",
    "    print(s)"
   ]
  },
  {
   "cell_type": "code",
   "execution_count": 26,
   "id": "ae9cd3ce",
   "metadata": {},
   "outputs": [
    {
     "name": "stdout",
     "output_type": "stream",
     "text": [
      "5,8,9,7\n",
      "list is not empty\n"
     ]
    }
   ],
   "source": [
    "#check a list is empty or not.\n",
    "\n",
    "k=list(input())\n",
    "if len(k)==0:\n",
    "    print('list is empty')\n",
    "else:\n",
    "    print('list is not empty')"
   ]
  },
  {
   "cell_type": "code",
   "execution_count": 40,
   "id": "27ff3086",
   "metadata": {},
   "outputs": [
    {
     "name": "stdout",
     "output_type": "stream",
     "text": [
      "krishna\n"
     ]
    }
   ],
   "source": [
    "#convert a tuple to a string.\n",
    "\n",
    "t=('k','r','i','s','h','n','a')\n",
    "k=''\n",
    "for i in t:\n",
    "    k=k+i\n",
    "print(k)\n"
   ]
  },
  {
   "cell_type": "code",
   "execution_count": null,
   "id": "b5a07990",
   "metadata": {},
   "outputs": [],
   "source": [
    "# find the second smallest & biggest number in a list.\n",
    "\n",
    "l=[5,7,9,4,5,8,3,2,1]\n",
    "l.extend([0,10,24,65,-9])\n",
    "l.sort()\n",
    "print('second smallest number in list is ',l[1])\n",
    "print('second biggest number in list is ',l[-1])"
   ]
  },
  {
   "cell_type": "code",
   "execution_count": 30,
   "id": "e6983c3e",
   "metadata": {},
   "outputs": [
    {
     "name": "stdout",
     "output_type": "stream",
     "text": [
      "Enter somthing here: naresh kumar\n",
      "12\n"
     ]
    }
   ],
   "source": [
    "#find the length of a tuple. \n",
    "\n",
    "t=tuple(input('Enter somthing here: '))\n",
    "c=0\n",
    "for  i in t:\n",
    "    c+=1\n",
    "else:\n",
    "    print(c)\n",
    "    "
   ]
  },
  {
   "cell_type": "code",
   "execution_count": 36,
   "id": "6002c144",
   "metadata": {},
   "outputs": [
    {
     "name": "stdout",
     "output_type": "stream",
     "text": [
      "(8, 5, 2, 7, 9, 8, 5)\n"
     ]
    }
   ],
   "source": [
    "#reverse a tuple\n",
    "\n",
    "m=(5,8,9,7,2,5,8)\n",
    "k=list(m)\n",
    "k.reverse()\n",
    "m=tuple(k)\n",
    "print(m)"
   ]
  },
  {
   "cell_type": "code",
   "execution_count": 1,
   "id": "259df54f",
   "metadata": {},
   "outputs": [
    {
     "name": "stdout",
     "output_type": "stream",
     "text": [
      "[5, 8, 9, 20, 51, 6, 4, 2]\n"
     ]
    }
   ],
   "source": [
    "#remove duplicates from a list. \n",
    "\n",
    "k=[5,8,9,20,51,5,6,5,8,4,5,2,4,]\n",
    "s=[]\n",
    "for i in k:\n",
    "    if i not in s:\n",
    "        s.append(i)\n",
    "else:\n",
    "    print(s)"
   ]
  },
  {
   "cell_type": "code",
   "execution_count": 6,
   "id": "615b0bbe",
   "metadata": {},
   "outputs": [
    {
     "name": "stdout",
     "output_type": "stream",
     "text": [
      "list is not empty\n"
     ]
    }
   ],
   "source": [
    "#check a list is empty or not. \n",
    "\n",
    "k=[5,8]\n",
    "s=0\n",
    "for i in k:\n",
    "    s+=1\n",
    "if s==0:\n",
    "  print(\"list is empty\")\n",
    "else:\n",
    "  print('list is not empty')"
   ]
  },
  {
   "cell_type": "code",
   "execution_count": 7,
   "id": "8a72fa9b",
   "metadata": {},
   "outputs": [
    {
     "name": "stdout",
     "output_type": "stream",
     "text": [
      "[3, 2, 6, 5, 4, 9, 8, 5]\n"
     ]
    }
   ],
   "source": [
    "#reverse a list\n",
    "\n",
    "d=[5,8,9,4,5,6,2,3]\n",
    "d.reverse()\n",
    "print(d)"
   ]
  },
  {
   "cell_type": "code",
   "execution_count": null,
   "id": "11570fab",
   "metadata": {},
   "outputs": [],
   "source": [
    "#largest number, smallest num and sum of all from a list.\n",
    "\n",
    "s=[4,5,6,9,8,5]\n",
    "n=0\n",
    "s.sort()\n",
    "for i in range(1,len(s)):\n",
    "    n=n+s[i]\n",
    "else:\n",
    "    print('largest number is ',s[-1])\n",
    "    print('smallest number is ', s[0])\n",
    "    print('sum of all from a list is',n)"
   ]
  },
  {
   "cell_type": "code",
   "execution_count": 3,
   "id": "90f8e491",
   "metadata": {},
   "outputs": [
    {
     "name": "stdout",
     "output_type": "stream",
     "text": [
      "5\n",
      "4\n",
      "6\n",
      "9\n",
      "8\n",
      "2\n",
      "3\n",
      "1\n"
     ]
    }
   ],
   "source": [
    "#get unique values from a list \n",
    "\n",
    "x=[5,4,6,9,8,5,2,3,2,1,5,4,5,6,2,5,6,5]\n",
    "new_list=[]\n",
    "for  i  in x:\n",
    "    if i not in new_list:\n",
    "        new_list.append(i)\n",
    "for m in new_list:\n",
    "    print(m)\n",
    "    "
   ]
  },
  {
   "cell_type": "code",
   "execution_count": 7,
   "id": "d337cfc9",
   "metadata": {},
   "outputs": [
    {
     "name": "stdout",
     "output_type": "stream",
     "text": [
      "7\n",
      "8\n",
      "9\n",
      "5\n"
     ]
    }
   ],
   "source": [
    "#split a list into different variables. \n",
    "\n",
    "name=[7,8,9,5]\n",
    "st1,st2,st3,st4=name\n",
    "print(st1)\n",
    "print(st2)\n",
    "print(st3)\n",
    "print(st4)"
   ]
  },
  {
   "cell_type": "code",
   "execution_count": 8,
   "id": "0c5c1a8b",
   "metadata": {},
   "outputs": [
    {
     "name": "stdout",
     "output_type": "stream",
     "text": [
      "('naresh', 5, 6, 7, 5.8)\n"
     ]
    }
   ],
   "source": [
    "# tuple with different data types.\n",
    "\n",
    "t=('naresh',5,6,7,5.8)\n",
    "print(t)"
   ]
  },
  {
   "cell_type": "code",
   "execution_count": 31,
   "id": "99bc571f",
   "metadata": {},
   "outputs": [
    {
     "name": "stdout",
     "output_type": "stream",
     "text": [
      "Enter a value to find in tuple: 25t\n",
      "False\n"
     ]
    }
   ],
   "source": [
    "#check whether an element exists within a tuple. \n",
    "\n",
    "m=('t','u','p','l','e','8','5','6')\n",
    "s=input('Enter a value to find in tuple: ')\n",
    "k = s in m\n",
    "print(k)"
   ]
  },
  {
   "cell_type": "code",
   "execution_count": 36,
   "id": "b7ca5f18",
   "metadata": {},
   "outputs": [
    {
     "name": "stdout",
     "output_type": "stream",
     "text": [
      "(5, 8, 9, 4, 'r', 'd', 'e')\n"
     ]
    }
   ],
   "source": [
    "# convert a list to a tuple.\n",
    "\n",
    "l=[5,8,9,4,'r','d','e']\n",
    "t=tuple(l)\n",
    "print(l2)"
   ]
  },
  {
   "cell_type": "code",
   "execution_count": 65,
   "id": "d5b6885b",
   "metadata": {},
   "outputs": [
    {
     "name": "stdout",
     "output_type": "stream",
     "text": [
      "Enter to find value in tuple: 9\n",
      " value 9 is not repeating\n"
     ]
    }
   ],
   "source": [
    "#Find The Repeated Items Of A Tuple.\n",
    "\n",
    "t=(5,7,8,9,6,5,4,2,5,6,2,4,5)\n",
    "t2=int(input('Enter to find value in tuple: '))\n",
    "k=t.count(t2)\n",
    "if k>1:\n",
    "    print(f' value {t2} is repeating for {k} time')\n",
    "elif k==1:\n",
    "    print(f' value {t2} is not repeating')\n",
    "else:\n",
    "    print(f'value {t2} is not available in tuple')"
   ]
  },
  {
   "cell_type": "code",
   "execution_count": 63,
   "id": "eb71f2ba",
   "metadata": {},
   "outputs": [
    {
     "name": "stdout",
     "output_type": "stream",
     "text": [
      "[(5, 4, 4), (5, 6, 3), (6, 5, 1)]\n"
     ]
    }
   ],
   "source": [
    "#Remove an empty tuple(s) from a list of tuples.\n",
    "\n",
    "t=[(5,4,4),( ), (5,6,3),( ), (6,5,1),( )]\n",
    "for i in t:\n",
    "    if len(i)==0:\n",
    "        t.remove(i)\n",
    "else:\n",
    "    print(t)"
   ]
  },
  {
   "cell_type": "code",
   "execution_count": 92,
   "id": "0f486b7f",
   "metadata": {},
   "outputs": [
    {
     "name": "stdout",
     "output_type": "stream",
     "text": [
      "((1, 3, 8), (2, 4, 9), (4, 0, 7))\n"
     ]
    }
   ],
   "source": [
    "##unzip a list of tuples into individual lists.\n",
    "\n",
    "l = [(1,2,4), (3,4,0 ), (8,9,7)]\n",
    "k=zip(*l)\n",
    "k=tuple(k)\n",
    "print(k)"
   ]
  },
  {
   "cell_type": "code",
   "execution_count": 122,
   "id": "a7fb2cf3",
   "metadata": {},
   "outputs": [
    {
     "name": "stdout",
     "output_type": "stream",
     "text": [
      "['maninagar', 'naresh', 'python']\n"
     ]
    }
   ],
   "source": [
    "#sort (ascending and descending) a dictionary by value.\n",
    "d=dict()\n",
    "d.update({'name':'naresh','class':'python','from':'maninagar'})\n",
    "k=d.values()\n",
    "m=list(k)\n",
    "s=sorted(m)\n",
    "print(s)"
   ]
  },
  {
   "cell_type": "code",
   "execution_count": null,
   "id": "69012e2a",
   "metadata": {},
   "outputs": [],
   "source": []
  },
  {
   "cell_type": "code",
   "execution_count": null,
   "id": "a288cc2b",
   "metadata": {},
   "outputs": [],
   "source": []
  }
 ],
 "metadata": {
  "kernelspec": {
   "display_name": "Python 3 (ipykernel)",
   "language": "python",
   "name": "python3"
  },
  "language_info": {
   "codemirror_mode": {
    "name": "ipython",
    "version": 3
   },
   "file_extension": ".py",
   "mimetype": "text/x-python",
   "name": "python",
   "nbconvert_exporter": "python",
   "pygments_lexer": "ipython3",
   "version": "3.9.12"
  }
 },
 "nbformat": 4,
 "nbformat_minor": 5
}
