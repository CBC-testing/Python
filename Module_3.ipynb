{
 "cells": [
  {
   "cell_type": "markdown",
   "id": "d4122e1a",
   "metadata": {},
   "source": [
    "## What is List? How will you reverse a list?"
   ]
  },
  {
   "cell_type": "code",
   "execution_count": null,
   "id": "6d5132db",
   "metadata": {},
   "outputs": [],
   "source": [
    "d=[5,8,9,4,5,6,2,3]\n",
    "d.reverse()\n",
    "print(d)"
   ]
  },
  {
   "cell_type": "markdown",
   "id": "69255251",
   "metadata": {},
   "source": [
    "# How will you compare two lists?"
   ]
  },
  {
   "cell_type": "code",
   "execution_count": null,
   "id": "834f2429",
   "metadata": {},
   "outputs": [],
   "source": [
    "list1 = [11, 12, 13, 14, 15]  \n",
    "list2 = [12, 13, 11, 15, 14]  \n",
    "  \n",
    "a = set(list1)  \n",
    "b = set(list2)  \n",
    "  \n",
    "if a == b:  \n",
    "    print(\"The list1 and list2 are equal\")  \n",
    "else:  \n",
    "    print(\"The list1 and list2 are not equal\") "
   ]
  },
  {
   "cell_type": "markdown",
   "id": "367150d6",
   "metadata": {},
   "source": [
    "###  How will you remove last object from a list? Suppose list1 is [2, 33, 222, 14, and 25], what is list1 [-1]? "
   ]
  },
  {
   "cell_type": "code",
   "execution_count": 19,
   "id": "3a34bfa0",
   "metadata": {},
   "outputs": [
    {
     "name": "stdout",
     "output_type": "stream",
     "text": [
      "[2, 33, 22, 14]\n"
     ]
    }
   ],
   "source": [
    "\n",
    "l=[2, 33, 22, 14, 25]\n",
    "l.pop() #to remove last value or list\n",
    "#l.remove(25) to remove perticular a value\n",
    "#l.pop(-1) to remove last element of list using index number\n",
    "print(l)\n"
   ]
  },
  {
   "cell_type": "markdown",
   "id": "9ad2912e",
   "metadata": {},
   "source": [
    "### Differentiate between append () and extend () methods? "
   ]
  },
  {
   "cell_type": "code",
   "execution_count": 20,
   "id": "c7595b9f",
   "metadata": {},
   "outputs": [
    {
     "name": "stdout",
     "output_type": "stream",
     "text": [
      "[5, 6, 8, 9, 5, 3, 1]\n"
     ]
    }
   ],
   "source": [
    "\n",
    "l=[5,6,8]\n",
    "l.append(9) #append is use for add a value in list & this value add at end of the list. at a time only one value add.\n",
    "l.extend([5,3,1]) ##extend is use for add a value in list & this value add at end of the list. at a time multi value add.\n",
    "print(l)"
   ]
  },
  {
   "cell_type": "markdown",
   "id": "648dc9e3",
   "metadata": {},
   "source": [
    "###  Write a Python program to convert a tuple to a string. "
   ]
  },
  {
   "cell_type": "code",
   "execution_count": 23,
   "id": "27ff3086",
   "metadata": {},
   "outputs": [
    {
     "name": "stdout",
     "output_type": "stream",
     "text": [
      "krishna\n"
     ]
    }
   ],
   "source": [
    "\n",
    "t=('k','r','i','s','h','n','a')\n",
    "k=''\n",
    "for i in t:\n",
    "    k=k+i\n",
    "print(k)\n"
   ]
  },
  {
   "cell_type": "markdown",
   "id": "5f8c10ed",
   "metadata": {},
   "source": [
    "### Write a Python program to find the second smallest number in a list."
   ]
  },
  {
   "cell_type": "code",
   "execution_count": 24,
   "id": "b5a07990",
   "metadata": {},
   "outputs": [
    {
     "name": "stdout",
     "output_type": "stream",
     "text": [
      "second smallest number in list is  0\n",
      "second biggest number in list is  65\n"
     ]
    }
   ],
   "source": [
    "\n",
    "\n",
    "l=[5,7,9,4,5,8,3,2,1]\n",
    "l.extend([0,10,24,65,-9])\n",
    "l.sort()\n",
    "print('second smallest number in list is ',l[1])\n",
    "print('second biggest number in list is ',l[-1])"
   ]
  },
  {
   "cell_type": "markdown",
   "id": "6ded1b65",
   "metadata": {},
   "source": [
    "### Write a Python program to find the length of a tuple."
   ]
  },
  {
   "cell_type": "code",
   "execution_count": 25,
   "id": "e6983c3e",
   "metadata": {},
   "outputs": [
    {
     "name": "stdout",
     "output_type": "stream",
     "text": [
      "Enter somthing here: \n",
      "0\n"
     ]
    }
   ],
   "source": [
    "\n",
    "t=tuple(input('Enter somthing here: '))\n",
    "c=0\n",
    "for  i in t:\n",
    "    c+=1\n",
    "else:\n",
    "    print(c)\n",
    "    "
   ]
  },
  {
   "cell_type": "markdown",
   "id": "8d338d98",
   "metadata": {},
   "source": [
    "## Write a Python function that takes two lists and returns true if they have at least one common member."
   ]
  },
  {
   "cell_type": "code",
   "execution_count": null,
   "id": "cdf580b8",
   "metadata": {},
   "outputs": [],
   "source": [
    "\n",
    "def common_data(list1, list2):\n",
    "     result = False\n",
    "     for x in list1:\n",
    "         for y in list2:\n",
    "             if x == y:\n",
    "                 result = True\n",
    "                 return result\n",
    "print(common_data([1,2,3,4,5], [5,6,7,8,9]))\n",
    "print(common_data([1,2,3,4,5], [6,7,8,9]))"
   ]
  },
  {
   "cell_type": "markdown",
   "id": "86d7bc5d",
   "metadata": {},
   "source": [
    "## Write a Python program to reverse a tuple."
   ]
  },
  {
   "cell_type": "code",
   "execution_count": 2,
   "id": "f4206572",
   "metadata": {},
   "outputs": [
    {
     "name": "stdout",
     "output_type": "stream",
     "text": [
      "(8, 5, 2, 7, 9, 8, 5)\n"
     ]
    }
   ],
   "source": [
    "\n",
    "m=(5,8,9,7,2,5,8)\n",
    "k=list(m)\n",
    "k.reverse()\n",
    "m=tuple(k)\n",
    "print(m)"
   ]
  },
  {
   "cell_type": "markdown",
   "id": "2a982267",
   "metadata": {},
   "source": [
    "### Write a Python program to remove duplicates from a list. "
   ]
  },
  {
   "cell_type": "code",
   "execution_count": null,
   "id": "3638d76d",
   "metadata": {},
   "outputs": [],
   "source": [
    "k=[5,8,9,20,51,5,6,5,8,4,5,2,4,]\n",
    "s=[]\n",
    "for i in k:\n",
    "    if i not in s:\n",
    "        s.append(i)\n",
    "else:\n",
    "    print(s)"
   ]
  },
  {
   "cell_type": "markdown",
   "id": "2573940b",
   "metadata": {},
   "source": [
    "## Write a Python function that takes a list and returns a new list with unique elements of the first list."
   ]
  },
  {
   "cell_type": "code",
   "execution_count": null,
   "id": "d485664f",
   "metadata": {},
   "outputs": [],
   "source": [
    "def f(l):\n",
    "    x = []\n",
    "    for a in l:\n",
    "        if a not in x:\n",
    "            x.append(a)\n",
    "    return x\n",
    "\n",
    "print(f([1,2,1,6,2,3,3,3,3,4,5]))"
   ]
  },
  {
   "cell_type": "markdown",
   "id": "569027d9",
   "metadata": {},
   "source": [
    "###  Write a Python program to check a list is empty or not. "
   ]
  },
  {
   "cell_type": "code",
   "execution_count": null,
   "id": "2858e6e6",
   "metadata": {},
   "outputs": [],
   "source": [
    "k=[5,8]\n",
    "s=0\n",
    "for i in k:\n",
    "    s+=1\n",
    "if s==0:\n",
    "  print(\"list is empty\")\n",
    "else:\n",
    "  print('list is not empty')"
   ]
  },
  {
   "cell_type": "markdown",
   "id": "c64d9e48",
   "metadata": {},
   "source": [
    "### Write a Python function to get the largest number, smallest num and sum of all from a list. "
   ]
  },
  {
   "cell_type": "code",
   "execution_count": 30,
   "id": "11570fab",
   "metadata": {},
   "outputs": [
    {
     "name": "stdout",
     "output_type": "stream",
     "text": [
      "largest number is  9\n",
      "smallest number is  4\n",
      "sum of all from a list is 33\n"
     ]
    }
   ],
   "source": [
    "\n",
    "s=[4,5,6,9,8,5]\n",
    "n=0\n",
    "s.sort()\n",
    "for i in range(1,len(s)):\n",
    "    n=n+s[i]\n",
    "else:\n",
    "    print('largest number is ',s[-1])\n",
    "    print('smallest number is ', s[0])\n",
    "    print('sum of all from a list is',n)"
   ]
  },
  {
   "cell_type": "markdown",
   "id": "80f8354d",
   "metadata": {},
   "source": [
    "### Write a Python program to get unique values from a list "
   ]
  },
  {
   "cell_type": "code",
   "execution_count": 31,
   "id": "90f8e491",
   "metadata": {},
   "outputs": [
    {
     "name": "stdout",
     "output_type": "stream",
     "text": [
      "5\n",
      "4\n",
      "6\n",
      "9\n",
      "8\n",
      "2\n",
      "3\n",
      "1\n"
     ]
    }
   ],
   "source": [
    "\n",
    "x=[5,4,6,9,8,5,2,3,2,1,5,4,5,6,2,5,6,5]\n",
    "new_list=[]\n",
    "for  i  in x:\n",
    "    if i not in new_list:\n",
    "        new_list.append(i)\n",
    "for m in new_list:\n",
    "    print(m)\n",
    "    "
   ]
  },
  {
   "cell_type": "markdown",
   "id": "a62c3d8c",
   "metadata": {},
   "source": [
    "### Write a Python program to split a list into different variables."
   ]
  },
  {
   "cell_type": "code",
   "execution_count": 32,
   "id": "d337cfc9",
   "metadata": {},
   "outputs": [
    {
     "name": "stdout",
     "output_type": "stream",
     "text": [
      "7\n",
      "8\n",
      "9\n",
      "5\n"
     ]
    }
   ],
   "source": [
    "\n",
    "name=[7,8,9,5]\n",
    "st1,st2,st3,st4=name\n",
    "print(st1)\n",
    "print(st2)\n",
    "print(st3)\n",
    "print(st4)"
   ]
  },
  {
   "cell_type": "markdown",
   "id": "d95a6146",
   "metadata": {},
   "source": [
    "### Write a Python program to create a tuple with different data types. "
   ]
  },
  {
   "cell_type": "code",
   "execution_count": 33,
   "id": "0c5c1a8b",
   "metadata": {},
   "outputs": [
    {
     "name": "stdout",
     "output_type": "stream",
     "text": [
      "('naresh', 5, 6, 7, 5.8)\n"
     ]
    }
   ],
   "source": [
    "\n",
    "t=('naresh',5,6,7,5.8)\n",
    "print(t)"
   ]
  },
  {
   "cell_type": "markdown",
   "id": "f85589f9",
   "metadata": {},
   "source": [
    "### Write a Python program to check whether an element exists within a tuple"
   ]
  },
  {
   "cell_type": "code",
   "execution_count": 34,
   "id": "99bc571f",
   "metadata": {},
   "outputs": [
    {
     "name": "stdout",
     "output_type": "stream",
     "text": [
      "Enter a value to find in tuple: \n",
      "False\n"
     ]
    }
   ],
   "source": [
    "\n",
    "m=('t','u','p','l','e','8','5','6')\n",
    "s=input('Enter a value to find in tuple: ')\n",
    "k = s in m\n",
    "print(k)"
   ]
  },
  {
   "cell_type": "markdown",
   "id": "f9fdf431",
   "metadata": {},
   "source": [
    "### Write a Python program to convert a list to a tuple. "
   ]
  },
  {
   "cell_type": "code",
   "execution_count": 35,
   "id": "b7ca5f18",
   "metadata": {},
   "outputs": [
    {
     "name": "stdout",
     "output_type": "stream",
     "text": [
      "(5, 8, 9, 4, 'r', 'd', 'e')\n"
     ]
    }
   ],
   "source": [
    "\n",
    "l=[5,8,9,4,'r','d','e']\n",
    "t=tuple(l)\n",
    "print(t)"
   ]
  },
  {
   "cell_type": "markdown",
   "id": "9b882e05",
   "metadata": {},
   "source": [
    "### Write a Python program to find the repeated items of a tuple."
   ]
  },
  {
   "cell_type": "code",
   "execution_count": null,
   "id": "d5b6885b",
   "metadata": {},
   "outputs": [],
   "source": [
    "\n",
    "t=(5,7,8,9,6,5,4,2,5,6,2,4,5)\n",
    "t2=int(input('Enter to find value in tuple: '))\n",
    "k=t.count(t2)\n",
    "if k>1:\n",
    "    print(f' value {t2} is repeating for {k} time')\n",
    "elif k==1:\n",
    "    print(f' value {t2} is not repeating')\n",
    "else:\n",
    "    print(f'value {t2} is not available in tuple')"
   ]
  },
  {
   "cell_type": "markdown",
   "id": "a4b253d1",
   "metadata": {},
   "source": [
    "###  Write a Python program to remove an empty tuple(s) from a list of tuples"
   ]
  },
  {
   "cell_type": "code",
   "execution_count": null,
   "id": "eb71f2ba",
   "metadata": {},
   "outputs": [],
   "source": [
    "\n",
    "t=[(5,4,4),( ), (5,6,3),( ), (6,5,1),( )]\n",
    "for i in t:\n",
    "    if len(i)==0:\n",
    "        t.remove(i)\n",
    "else:\n",
    "    print(t)"
   ]
  },
  {
   "cell_type": "markdown",
   "id": "e4b2114c",
   "metadata": {},
   "source": [
    "### Write a Python program to unzip a list of tuples into individual lists. "
   ]
  },
  {
   "cell_type": "code",
   "execution_count": null,
   "id": "0f486b7f",
   "metadata": {},
   "outputs": [],
   "source": [
    "\n",
    "l = [(1,2,4), (3,4,0 ), (8,9,7)]\n",
    "k=zip(*l)\n",
    "k=tuple(k)\n",
    "print(k)"
   ]
  },
  {
   "cell_type": "markdown",
   "id": "b1146a05",
   "metadata": {},
   "source": [
    "### Write a Python script to sort (ascending and descending) a dictionary by value. "
   ]
  },
  {
   "cell_type": "code",
   "execution_count": null,
   "id": "a7fb2cf3",
   "metadata": {},
   "outputs": [],
   "source": [
    "\n",
    "d=dict()\n",
    "d.update({'name':'naresh','class':'python','from':'maninagar'})\n",
    "k=d.values()\n",
    "m=list(k)\n",
    "s=sorted(m)\n",
    "print(s)"
   ]
  },
  {
   "cell_type": "markdown",
   "id": "5078f488",
   "metadata": {},
   "source": [
    "### Write a Python script to concatenate following dictionaries to create a new one. "
   ]
  },
  {
   "cell_type": "code",
   "execution_count": null,
   "id": "69012e2a",
   "metadata": {},
   "outputs": [],
   "source": [
    "\n",
    "a={'name':'naresh','sub':'python'}\n",
    "b={'time':'11:30 AM'}\n",
    "c={}\n",
    "for i in(a,b):\n",
    "    c.update(i)\n",
    "print(c)"
   ]
  },
  {
   "cell_type": "markdown",
   "id": "0f55a956",
   "metadata": {},
   "source": [
    "### Write a Python script to check if a given key already exists in a dictionary."
   ]
  },
  {
   "cell_type": "code",
   "execution_count": null,
   "id": "a288cc2b",
   "metadata": {},
   "outputs": [],
   "source": [
    " \n",
    "m={'name':'naresh','class':'python','place':'maninagar'}\n",
    "s=input()\n",
    "if s in m:\n",
    "    print('Already exists')\n",
    "else:\n",
    "    print('a new key')"
   ]
  },
  {
   "cell_type": "markdown",
   "id": "c176d667",
   "metadata": {},
   "source": [
    "### How Do You Traverse Through A Dictionary Object In Python?"
   ]
  },
  {
   "cell_type": "code",
   "execution_count": null,
   "id": "fc1c24d5",
   "metadata": {},
   "outputs": [],
   "source": [
    "\n",
    "r={'institute':'tops','place':'maninagar station','sub':'all type programming language'}\n",
    "for i , m in r.items():\n",
    "    print(i,'=',m)"
   ]
  },
  {
   "cell_type": "markdown",
   "id": "2ea0753f",
   "metadata": {},
   "source": [
    "### Write a Python script to merge two Python dictionaries "
   ]
  },
  {
   "cell_type": "code",
   "execution_count": null,
   "id": "ab39f6f5",
   "metadata": {},
   "outputs": [],
   "source": [
    "\n",
    "a={'total PC':'10','place':'maninagar'}\n",
    "b={'faculty member':'13'}\n",
    "d=a.copy()\n",
    "d.update(b)\n",
    "print(d)"
   ]
  },
  {
   "cell_type": "markdown",
   "id": "a88b0a05",
   "metadata": {},
   "source": [
    "### Write a Python program to map two lists into a dictionary"
   ]
  },
  {
   "cell_type": "code",
   "execution_count": null,
   "id": "21c8ed5f",
   "metadata": {},
   "outputs": [],
   "source": [
    "\n",
    "name=['naresh','kailash','surendra']\n",
    "mobile=[956561,545416,455456]\n",
    "d=dict(zip(name,mobile))\n",
    "print(d)"
   ]
  },
  {
   "cell_type": "markdown",
   "id": "f6c16416",
   "metadata": {},
   "source": [
    "### Write a Python function to check whether a number is in a given range"
   ]
  },
  {
   "cell_type": "code",
   "execution_count": null,
   "id": "3136b786",
   "metadata": {},
   "outputs": [],
   "source": [
    "\n",
    "s=int(input('Enter A (numeric) value: '))\n",
    "if s in range (4,15):\n",
    "    print(f'{s} in range')\n",
    "else:\n",
    "    print(f'{s} is out of given range')"
   ]
  },
  {
   "cell_type": "markdown",
   "id": "ca38d306",
   "metadata": {},
   "source": [
    "### Write a Python function that checks whether a passed string is palindrome or not "
   ]
  },
  {
   "cell_type": "code",
   "execution_count": 4,
   "id": "24826fdb",
   "metadata": {},
   "outputs": [
    {
     "name": "stdout",
     "output_type": "stream",
     "text": [
      "Enter a string: repaper\n",
      "passed string is palindrome\n"
     ]
    }
   ],
   "source": [
    "\n",
    "s=input('Enter a string: ')\n",
    "r=s[::-1]\n",
    "if s==r:\n",
    "  print('passed string is palindrome')\n",
    "else:\n",
    "  print('not a palindrome')"
   ]
  },
  {
   "cell_type": "markdown",
   "id": "19e7c4e5",
   "metadata": {},
   "source": [
    "### Write a Python program to returns sum of all divisors of a number "
   ]
  },
  {
   "cell_type": "code",
   "execution_count": null,
   "id": "ecc9c5b0",
   "metadata": {},
   "outputs": [],
   "source": [
    " \n",
    "\n",
    "n=int(input('Enter a value: '))\n",
    "a=0\n",
    "for i in range(1, n):\n",
    "  if n % i ==0:\n",
    "    a += i\n",
    "else:\n",
    "  print(a)"
   ]
  },
  {
   "cell_type": "markdown",
   "id": "e64676e6",
   "metadata": {},
   "source": [
    "### Write a Python program to find the maximum and minimum numbers from the specified decimal numbers. "
   ]
  },
  {
   "cell_type": "code",
   "execution_count": null,
   "id": "c10bc9e1",
   "metadata": {},
   "outputs": [],
   "source": [
    "\n",
    "k=[2.5,6.5,3.2,1.9,0.5,5.7]\n",
    "k.sort()\n",
    "print(f'meximum num is {k[-1]} and minimum number is {k[0]}')"
   ]
  },
  {
   "cell_type": "markdown",
   "id": "afc120de",
   "metadata": {},
   "source": [
    "### Write a Python program to calculate the area of a parallelogram "
   ]
  },
  {
   "cell_type": "code",
   "execution_count": null,
   "id": "e8916ad6",
   "metadata": {},
   "outputs": [],
   "source": [
    "\n",
    "height=float(input('Enter height: '))\n",
    "base=float(input('Enter base: '))\n",
    "area= base * height\n",
    "print(f'area of parallelogram is:{area}')"
   ]
  },
  {
   "cell_type": "markdown",
   "id": "23ab496f",
   "metadata": {},
   "source": [
    "### Write a Python function to check whether a number is perfect or not. "
   ]
  },
  {
   "cell_type": "code",
   "execution_count": 1,
   "id": "30bc4286",
   "metadata": {},
   "outputs": [
    {
     "name": "stdout",
     "output_type": "stream",
     "text": [
      "7\n",
      " not perfect\n"
     ]
    }
   ],
   "source": [
    "\n",
    "s=int(input())\n",
    "k=0\n",
    "for i in range(1,s):\n",
    "    if s%i== 0:\n",
    "        k+=i\n",
    "if k == s:\n",
    "    print('perfect number')\n",
    "else:\n",
    "    print(f' not perfect')"
   ]
  },
  {
   "cell_type": "markdown",
   "id": "5e41e219",
   "metadata": {},
   "source": [
    "### Write a Python program to convert degree to radian"
   ]
  },
  {
   "cell_type": "code",
   "execution_count": 10,
   "id": "51e543cd",
   "metadata": {},
   "outputs": [
    {
     "name": "stdout",
     "output_type": "stream",
     "text": [
      "Enter degree: 70\n",
      "radian is 1.2222222222222223\n"
     ]
    }
   ],
   "source": [
    "\n",
    "pi=22/7\n",
    "degree=float(input('Enter degree: '))\n",
    "radian=((pi/180)*degree)\n",
    "print(f'radian is {radian}')\n"
   ]
  },
  {
   "cell_type": "markdown",
   "id": "368bba70",
   "metadata": {},
   "source": [
    "###  Write a Python program to calculate the area of a trapezoid "
   ]
  },
  {
   "cell_type": "code",
   "execution_count": null,
   "id": "671dd166",
   "metadata": {},
   "outputs": [],
   "source": [
    "\n",
    "height=float(input('Enter the height: '))\n",
    "base1=float(input('enter the base1: '))\n",
    "base2=float(input('enter the base2: '))\n",
    "area=(((base1+base2)/2)*height)\n",
    "print(f'area is {area}')"
   ]
  },
  {
   "cell_type": "markdown",
   "id": "2dd37caf",
   "metadata": {},
   "source": [
    "### Write a Python program to read a random line from a file. "
   ]
  },
  {
   "cell_type": "code",
   "execution_count": 45,
   "id": "010c6a4e",
   "metadata": {},
   "outputs": [
    {
     "ename": "NameError",
     "evalue": "name 'fname' is not defined",
     "output_type": "error",
     "traceback": [
      "\u001b[1;31m---------------------------------------------------------------------------\u001b[0m",
      "\u001b[1;31mNameError\u001b[0m                                 Traceback (most recent call last)",
      "Input \u001b[1;32mIn [45]\u001b[0m, in \u001b[0;36m<cell line: 5>\u001b[1;34m()\u001b[0m\n\u001b[0;32m      3\u001b[0m     lines \u001b[38;5;241m=\u001b[39m \u001b[38;5;28mopen\u001b[39m(fname)\u001b[38;5;241m.\u001b[39mread()\u001b[38;5;241m.\u001b[39msplitlines()\n\u001b[0;32m      4\u001b[0m     \u001b[38;5;28;01mreturn\u001b[39;00m random\u001b[38;5;241m.\u001b[39mchoice(lines)\n\u001b[1;32m----> 5\u001b[0m \u001b[38;5;28mprint\u001b[39m(random_line(\u001b[43mfname\u001b[49m))\n",
      "\u001b[1;31mNameError\u001b[0m: name 'fname' is not defined"
     ]
    }
   ],
   "source": [
    "import random\n",
    "def random_line(fname):\n",
    "    lines = open(fname).read().splitlines()\n",
    "    return random.choice(lines)\n",
    "print(random_line('Readme.md'))"
   ]
  },
  {
   "cell_type": "code",
   "execution_count": null,
   "id": "45a81d70",
   "metadata": {},
   "outputs": [],
   "source": []
  },
  {
   "cell_type": "markdown",
   "id": "d5a42c5b",
   "metadata": {},
   "source": [
    "### How can you pick a random item from a range? "
   ]
  },
  {
   "cell_type": "code",
   "execution_count": 28,
   "id": "3c122f4b",
   "metadata": {},
   "outputs": [],
   "source": [
    "import random\n",
    "def random_item():\n",
    "    return random.randrange(10)\n",
    "    "
   ]
  },
  {
   "cell_type": "code",
   "execution_count": 29,
   "id": "b90f52e9",
   "metadata": {},
   "outputs": [
    {
     "data": {
      "text/plain": [
       "9"
      ]
     },
     "execution_count": 29,
     "metadata": {},
     "output_type": "execute_result"
    }
   ],
   "source": [
    "random_item()"
   ]
  },
  {
   "cell_type": "markdown",
   "id": "70f4b9f8",
   "metadata": {},
   "source": [
    "### How can you get a random number in python? "
   ]
  },
  {
   "cell_type": "code",
   "execution_count": 31,
   "id": "b88466d8",
   "metadata": {},
   "outputs": [],
   "source": [
    "import random\n",
    "def random_num():\n",
    "    return random.random()"
   ]
  },
  {
   "cell_type": "code",
   "execution_count": 34,
   "id": "c951421e",
   "metadata": {},
   "outputs": [
    {
     "data": {
      "text/plain": [
       "0.7010276621116155"
      ]
     },
     "execution_count": 34,
     "metadata": {},
     "output_type": "execute_result"
    }
   ],
   "source": [
    "random_num()"
   ]
  },
  {
   "cell_type": "markdown",
   "id": "6353a676",
   "metadata": {},
   "source": [
    "###  How will you randomizes the items of a list in place? "
   ]
  },
  {
   "cell_type": "code",
   "execution_count": 35,
   "id": "a8ac60f2",
   "metadata": {},
   "outputs": [
    {
     "name": "stdout",
     "output_type": "stream",
     "text": [
      "[8, 9, 6, 5, 5, 2, 45]\n"
     ]
    }
   ],
   "source": [
    "import random\n",
    "l=[45,6,9,8,5,2,5]\n",
    "new_list=random.shuffle(l)\n",
    "print(l)"
   ]
  },
  {
   "cell_type": "markdown",
   "id": "f34e1c7e",
   "metadata": {},
   "source": [
    "### How can you pick a random item from a list or tuple?"
   ]
  },
  {
   "cell_type": "code",
   "execution_count": 38,
   "id": "de79eeca",
   "metadata": {},
   "outputs": [
    {
     "name": "stdout",
     "output_type": "stream",
     "text": [
      "s\n"
     ]
    }
   ],
   "source": [
    "l=['k','a','i','l','a','s','h']\n",
    "choice=random.choice(l)\n",
    "print(choice)"
   ]
  },
  {
   "cell_type": "code",
   "execution_count": 2,
   "id": "c35726d8",
   "metadata": {},
   "outputs": [
    {
     "name": "stdout",
     "output_type": "stream",
     "text": [
      "s\n"
     ]
    }
   ],
   "source": [
    "import random\n",
    "k=('t','s','k','p')\n",
    "choice=random.choice(k)\n",
    "print(choice)"
   ]
  },
  {
   "cell_type": "markdown",
   "id": "8bfca86e",
   "metadata": {},
   "source": [
    "## Write a Python program to convert a list of characters into a string."
   ]
  },
  {
   "cell_type": "code",
   "execution_count": 3,
   "id": "d2f1904f",
   "metadata": {},
   "outputs": [
    {
     "name": "stdout",
     "output_type": "stream",
     "text": [
      "naresh\n"
     ]
    }
   ],
   "source": [
    "\n",
    "a = ['n', 'a', 'r', 'e','s','h']\n",
    "str1 = ''.join(a)\n",
    "print(str1)"
   ]
  },
  {
   "cell_type": "markdown",
   "id": "8bf811b7",
   "metadata": {},
   "source": [
    "## Write a Python program to calculate surface volume and area of a cylinder "
   ]
  },
  {
   "cell_type": "code",
   "execution_count": null,
   "id": "1f902563",
   "metadata": {},
   "outputs": [],
   "source": [
    "\n",
    "\n",
    "import math\n",
    "\n",
    "gvn_radius = 4\n",
    "\n",
    "gvn_heigt = 7\n",
    "\n",
    "surfc_area = 2*math.pi*pow(gvn_radius, 2)*gvn_heigt\n",
    "\n",
    "vol = math.pi*pow(gvn_radius, 2)*gvn_heigt\n",
    "\n",
    "print(\"The surface area of a given cylinder =\", surfc_area)\n",
    "\n",
    "print(\"The volume of a given cylinder =\", vol)"
   ]
  },
  {
   "cell_type": "markdown",
   "id": "5b893c10",
   "metadata": {},
   "source": [
    "## How will you set the starting value in generating random numbers?\n",
    "#### The seed() method is used to initialize the random number generator. The random number generator needs a number to start with (a seed value), to be able to generate a random number. By default the random number generator uses the current system time."
   ]
  },
  {
   "cell_type": "code",
   "execution_count": null,
   "id": "310e2f91",
   "metadata": {},
   "outputs": [],
   "source": []
  },
  {
   "cell_type": "markdown",
   "id": "8f92435b",
   "metadata": {},
   "source": [
    "##  How can you get a random number in python? \n",
    "\n",
    "#### To generate random number in Python, randint() function is used. This function is defined in random module."
   ]
  },
  {
   "cell_type": "markdown",
   "id": "6170eac1",
   "metadata": {},
   "source": [
    "## How Many Basic Types Of Functions Are Available In Python?\n",
    "\n",
    "### There are two basic types of functions: built-in functions and user defined functions. The built-in functions are part of the Python language; for instance dir , len , or abs . The user defined functions are functions created with the def keyword"
   ]
  },
  {
   "cell_type": "markdown",
   "id": "e80289db",
   "metadata": {},
   "source": [
    "## Write a Python function to calculate the factorial of a number (a nonnegative integer)\n"
   ]
  },
  {
   "cell_type": "code",
   "execution_count": null,
   "id": "7e179ec3",
   "metadata": {},
   "outputs": [],
   "source": [
    "def factorial(n):\n",
    "    if n == 0:\n",
    "        return 1\n",
    "    else:\n",
    "        return n * factorial(n-1)\n",
    "n=int(input(\"Input a number to compute the factiorial : \"))\n",
    "print(factorial(n))"
   ]
  },
  {
   "cell_type": "markdown",
   "id": "9bc3e2eb",
   "metadata": {},
   "source": [
    "## Write a Python program to create a dictionary from a string. Note: Track the count of the letters from the string. Sample string: \n"
   ]
  },
  {
   "cell_type": "code",
   "execution_count": null,
   "id": "6f61f727",
   "metadata": {},
   "outputs": [],
   "source": [
    "str1 = 'w3resource' \n",
    "my_dict = {}\n",
    "for letter in str1:\n",
    "    my_dict[letter] = my_dict.get(letter, 0) + 1\n",
    "print(my_dict)"
   ]
  },
  {
   "cell_type": "markdown",
   "id": "3a80f38b",
   "metadata": {},
   "source": [
    "## Write a Python program to combine values in python list of dictionaries. Sample data: [{'item': 'item1', 'amount': 400}, {'item': 'item2', 'amount': 300}, o {'item': 'item1', 'amount': 750}] \n"
   ]
  },
  {
   "cell_type": "code",
   "execution_count": null,
   "id": "def19000",
   "metadata": {},
   "outputs": [],
   "source": [
    "item_list = [{'item': 'item1', 'amount': 400}, {'item': 'item2', 'amount': 300}, {'item': 'item1', 'amount': 750}]\n",
    "result = Counter()\n",
    "for d in item_list:\n",
    "    result[d['item']] += d['amount']\n",
    "print(result) "
   ]
  },
  {
   "cell_type": "markdown",
   "id": "8df95116",
   "metadata": {},
   "source": [
    "## Write a Python program to find the highest 3 values in a dictionary"
   ]
  },
  {
   "cell_type": "code",
   "execution_count": null,
   "id": "a56461c4",
   "metadata": {},
   "outputs": [],
   "source": [
    "my_dict = {\"A\":3,\"B\":4,\"H\":1,\"K\":8,\"T\":0}\n",
    "\n",
    "my_keys = sorted(my_dict, key=my_dict.get, reverse=True)[:3]\n",
    "\n",
    "# where `my_keys` holds the value:\n",
    "print(my_keys)"
   ]
  },
  {
   "cell_type": "markdown",
   "id": "ab29fd45",
   "metadata": {},
   "source": [
    "## Write a Python program to create and display all combinations of letters, selecting each letter from a different key in a dictionary. "
   ]
  },
  {
   "cell_type": "code",
   "execution_count": null,
   "id": "6a3e6368",
   "metadata": {},
   "outputs": [],
   "source": [
    "d =  {'1': ['a','b'], '2': ['c','d']}\n",
    "for x in d[\"1\"]:\n",
    "    for y in d['2']:\n",
    "        print(x+y)\n",
    "        \n",
    "d ={'1':['a','b'], '2':['c','d']}\n",
    "\n",
    "from itertools import product\n",
    "\n",
    "d ={'1':['a','b'], '2':['c','d']}\n",
    "\n",
    "for x, y in product(*d.values()):\n",
    "    print(x + y)"
   ]
  },
  {
   "cell_type": "markdown",
   "id": "cd12027f",
   "metadata": {},
   "source": [
    "## Why Do You Use the Zip () Method in Python? \n",
    "### Python's zip() function creates an iterator that will aggregate elements from two or more iterables. You can use the resulting iterator to quickly and consistently solve common programming problems, like creating dictionaries.'"
   ]
  },
  {
   "cell_type": "markdown",
   "id": "7225b10c",
   "metadata": {},
   "source": [
    "## Write a Python program to print all unique values in a dictionary."
   ]
  },
  {
   "cell_type": "code",
   "execution_count": null,
   "id": "a9498c06",
   "metadata": {},
   "outputs": [],
   "source": [
    "L = [{\"V\":\"S001\"}, {\"V\": \"S002\"}, {\"VI\": \"S001\"}, {\"VI\": \"S005\"}, {\"VII\":\"S005\"}, {\"V\":\"S009\"},{\"VIII\":\"S007\"}]\n",
    "print(\"Original List: \",L)\n",
    "u_value = set( val for dic in L for val in dic.values())\n",
    "print(\"Unique Values: \",u_value)"
   ]
  },
  {
   "cell_type": "markdown",
   "id": "02b7c0db",
   "metadata": {},
   "source": [
    "## Write a Python program to combine two dictionary adding values for common keys."
   ]
  },
  {
   "cell_type": "code",
   "execution_count": null,
   "id": "0c6e645f",
   "metadata": {},
   "outputs": [],
   "source": [
    "from collections import Counter\n",
    "d1 = {'a': 100, 'b': 200, 'c':300}\n",
    "d2 = {'a': 300, 'b': 200, 'd':400}\n",
    "d = Counter(d1) + Counter(d2)\n",
    "print(d)"
   ]
  },
  {
   "cell_type": "markdown",
   "id": "f780f3a6",
   "metadata": {},
   "source": [
    "## Write a Python program to check multiple keys exists in a dictionary"
   ]
  },
  {
   "cell_type": "code",
   "execution_count": null,
   "id": "06506915",
   "metadata": {},
   "outputs": [],
   "source": [
    "student = {\n",
    "  'name': 'Alex',\n",
    "  'class': 'V',\n",
    "  'roll_id': '2'\n",
    "}\n",
    "print(student.keys() >= {'class', 'name'})\n",
    "print(student.keys() >= {'name', 'Alex'})\n",
    "print(student.keys() >= {'roll_id', 'name'})"
   ]
  },
  {
   "cell_type": "markdown",
   "id": "11e632df",
   "metadata": {},
   "source": [
    "## Write a Python script to print a dictionary where the keys are numbers between 1 and 15."
   ]
  },
  {
   "cell_type": "code",
   "execution_count": null,
   "id": "a2acf3ff",
   "metadata": {},
   "outputs": [],
   "source": [
    "d=dict()\n",
    "for x in range(1,16):\n",
    "    d[x]=x**2\n",
    "print(d)"
   ]
  },
  {
   "cell_type": "markdown",
   "id": "031f1f36",
   "metadata": {},
   "source": [
    "## How Do You Check The Presence Of A Key In A Dictionary?\n",
    "### Check If Key Exists using has_key() method Using has_key() method returns true if a given key is available in the dictionary, otherwise, it returns a false. With the Inbuilt method has_key(), use the if statement to check if the key is present in the dictionary or not.'''"
   ]
  },
  {
   "cell_type": "markdown",
   "id": "f9d25fa5",
   "metadata": {},
   "source": [
    "# How Do You Traverse Through A Dictionary Object In Python?\n",
    "### There are multiple ways to iterate over a dictionary in Python.\n",
    "### 1. Access key using the build .keys()\n",
    "### 2. Access key without using a key()\n",
    "### 3. Iterate through all values using .values()\n",
    "### 4. Iterate through all key, and value pairs using items()\n",
    "### 5. Access both key and value without using items()\n",
    "### 6. Print items in Key-Value in pair.'''"
   ]
  },
  {
   "cell_type": "markdown",
   "id": "62dc9e8f",
   "metadata": {},
   "source": [
    "## How will you create a dictionary using tuples in python?"
   ]
  },
  {
   "cell_type": "code",
   "execution_count": null,
   "id": "a01997e1",
   "metadata": {},
   "outputs": [],
   "source": [
    "t = ((\"a\", 1),('b', 2),('c',3))\n",
    "di1 = dict(t)\n",
    "di2 = dict((y,x) for x,y in t)\n",
    "print(di1)\n",
    "print(di2)"
   ]
  },
  {
   "cell_type": "markdown",
   "id": "ae34c094",
   "metadata": {},
   "source": [
    "## Write a Python program to convert a list of tuples into a dictionary. "
   ]
  },
  {
   "cell_type": "code",
   "execution_count": null,
   "id": "9e5fb626",
   "metadata": {},
   "outputs": [],
   "source": [
    "l1 = [(10, 5), (\"Hello\", \"Hi\"), (\"Good\", \"Fine\") ]\n",
    "d1 = dict(l1)\n",
    "print(d1)"
   ]
  },
  {
   "cell_type": "markdown",
   "id": "1e35614e",
   "metadata": {},
   "source": [
    "## Write a Python program to replace last value of tuples in a list."
   ]
  },
  {
   "cell_type": "code",
   "execution_count": null,
   "id": "a67e0149",
   "metadata": {},
   "outputs": [],
   "source": [
    "sample_list = [(10, 20, 40), (40, 50, 60), (70, 80, 90)]\n",
    "\n",
    "for i in range(len(sample_list)):\n",
    "\n",
    "   upd_list=list(sample_list[i])\n",
    "\n",
    "   upd_list[-1] = 100\n",
    "\n",
    "   sample_list[i]=tuple(upd_list)\n",
    "\n",
    "print(sample_list)"
   ]
  },
  {
   "cell_type": "markdown",
   "id": "8bc0381e",
   "metadata": {},
   "source": [
    "## Write a Python program to check whether an element exists within a tuple.\n"
   ]
  },
  {
   "cell_type": "code",
   "execution_count": null,
   "id": "1e3b63f7",
   "metadata": {},
   "outputs": [],
   "source": [
    "tpl = (\"Abhi\", \"Miskin\", 23, 520, 5)\n",
    "print(\"Abhi\" in tpl)\n",
    "print(56 in tpl)"
   ]
  },
  {
   "cell_type": "markdown",
   "id": "f643cb42",
   "metadata": {},
   "source": [
    "## Write a Python program to create a tuple with numbers."
   ]
  },
  {
   "cell_type": "code",
   "execution_count": null,
   "id": "61d6458b",
   "metadata": {},
   "outputs": [],
   "source": [
    "#Create a tuple with numbers\n",
    "tuple0 = 5, 10, 15, 20, 25\n",
    "print(tuple0)\n",
    "#Create a tuple of one item\n",
    "tuple0 = 5,\n",
    "print(tuple0)\n"
   ]
  },
  {
   "cell_type": "markdown",
   "id": "1e0a1a2d",
   "metadata": {},
   "source": [
    "## Write a Python program to create a tuple with different data types."
   ]
  },
  {
   "cell_type": "code",
   "execution_count": null,
   "id": "6e49c6d0",
   "metadata": {},
   "outputs": [],
   "source": [
    "Main_tuple = (\"Hello Tops\", 19, 19.3, True)\n",
    "print(Main_tuple)"
   ]
  },
  {
   "cell_type": "markdown",
   "id": "8d082514",
   "metadata": {},
   "source": [
    "# What is tuple? Difference between list and tuple.\n",
    "### Tuple. Tuples are used to store multiple items in a single variable. Tuple is one of 4 built-in data types in Python used to store collections of data, the other 3 are List, Set, and Dictionary, all with different qualities and usage. A tuple is a collection which is ordered and unchangeable.'''\n",
    "\n",
    "### LIST\tTUPLE\n",
    "#### 1\tLists are mutable\tTuples are immutable\n",
    "#### 2\tThe implication of iterations is Time-consuming\tThe implication of iterations is comparatively Faster\n",
    "#### 3\tThe list is better for performing operations, such as insertion and deletion.\tTuple data type is appropriate for accessing the elements\n",
    "#### 4\tLists consume more memory\tTuple consumes less memory as compared to the list\n",
    "#### 5\tLists have several built-in methods\tTuple does not have many built-in methods.\n",
    "#### 6\tThe unexpected changes and errors are more likely to occur\tIn tuple, it is hard to take place."
   ]
  },
  {
   "cell_type": "markdown",
   "id": "52744556",
   "metadata": {},
   "source": [
    "## Write a Python program to check whether a list contains a sub list \n"
   ]
  },
  {
   "cell_type": "code",
   "execution_count": null,
   "id": "55def208",
   "metadata": {},
   "outputs": [],
   "source": [
    "def sublist(lst1, lst2):\n",
    "   ls1 = [element for element in lst1 if element in lst2]\n",
    "   ls2 = [element for element in lst2 if element in lst1]\n",
    "   return ls1 == ls2\n",
    "\n",
    "\n",
    "def sublist(ls1, ls2):\n",
    "    '''\n",
    "    >>> sublist([], [1,2,3])\n",
    "    True\n",
    "    >>> sublist([1,2,3,4], [2,5,3])\n",
    "    True\n",
    "    >>> sublist([1,2,3,4], [0,3,2])\n",
    "    False\n",
    "    >>> sublist([1,2,3,4], [1,2,5,6,7,8,5,76,4,3])\n",
    "    False\n",
    "    '''\n",
    "    def get_all_in(one, another):\n",
    "        for element in one:\n",
    "            if element in another:\n",
    "                yield element\n",
    "\n",
    "    for x1, x2 in zip(get_all_in(ls1, ls2), get_all_in(ls2, ls1)):\n",
    "        if x1 != x2:\n",
    "            return False\n",
    "\n",
    "    return True\n"
   ]
  }
 ],
 "metadata": {
  "kernelspec": {
   "display_name": "Python 3 (ipykernel)",
   "language": "python",
   "name": "python3"
  },
  "language_info": {
   "codemirror_mode": {
    "name": "ipython",
    "version": 3
   },
   "file_extension": ".py",
   "mimetype": "text/x-python",
   "name": "python",
   "nbconvert_exporter": "python",
   "pygments_lexer": "ipython3",
   "version": "3.9.12"
  },
  "vscode": {
   "interpreter": {
    "hash": "5ae58900cfbb8c43ab3495913814b7cf26024f51651a94ce8bf64d6111688e8d"
   }
  }
 },
 "nbformat": 4,
 "nbformat_minor": 5
}
