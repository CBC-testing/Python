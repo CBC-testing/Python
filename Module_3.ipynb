{
 "cells": [
  {
   "cell_type": "code",
   "execution_count": 19,
   "id": "3a34bfa0",
   "metadata": {},
   "outputs": [
    {
     "name": "stdout",
     "output_type": "stream",
     "text": [
      "[2, 33, 22, 14]\n"
     ]
    }
   ],
   "source": [
    "#remove last object from a list\n",
    "\n",
    "#what is list1_[-1]\n",
    "l=[2, 33, 22, 14, 25]\n",
    "l.pop() #to remove last value or list\n",
    "#l.remove(25) to remove perticular a value\n",
    "#l.pop(-1) to remove last element of list using index number\n",
    "print(l)\n"
   ]
  },
  {
   "cell_type": "code",
   "execution_count": 20,
   "id": "c7595b9f",
   "metadata": {},
   "outputs": [
    {
     "name": "stdout",
     "output_type": "stream",
     "text": [
      "[5, 6, 8, 9, 5, 3, 1]\n"
     ]
    }
   ],
   "source": [
    "# Differentiate between append () and extend ()\n",
    "\n",
    "l=[5,6,8]\n",
    "l.append(9) #append is use for add a value in list & this value add at end of the list. at a time only one value add.\n",
    "l.extend([5,3,1]) ##extend is use for add a value in list & this value add at end of the list. at a time multi value add.\n",
    "print(l)"
   ]
  },
  {
   "cell_type": "code",
   "execution_count": 21,
   "id": "9160a970",
   "metadata": {},
   "outputs": [
    {
     "name": "stdout",
     "output_type": "stream",
     "text": [
      "[5, 4, 7, 9, 8, 6]\n"
     ]
    }
   ],
   "source": [
    "#Remove duplicates from a list\n",
    "\n",
    "m=[5,4,7,4,9,8,7,6]\n",
    "s=list()\n",
    "for i in m:\n",
    "    if i not in s:\n",
    "        s.append(i)\n",
    "else:\n",
    "    print(s)"
   ]
  },
  {
   "cell_type": "code",
   "execution_count": 22,
   "id": "ae9cd3ce",
   "metadata": {},
   "outputs": [
    {
     "name": "stdout",
     "output_type": "stream",
     "text": [
      "\n",
      "list is empty\n"
     ]
    }
   ],
   "source": [
    "#check a list is empty or not.\n",
    "\n",
    "k=list(input())\n",
    "if len(k)==0:\n",
    "    print('list is empty')\n",
    "else:\n",
    "    print('list is not empty')"
   ]
  },
  {
   "cell_type": "code",
   "execution_count": 23,
   "id": "27ff3086",
   "metadata": {},
   "outputs": [
    {
     "name": "stdout",
     "output_type": "stream",
     "text": [
      "krishna\n"
     ]
    }
   ],
   "source": [
    "#convert a tuple to a string.\n",
    "\n",
    "t=('k','r','i','s','h','n','a')\n",
    "k=''\n",
    "for i in t:\n",
    "    k=k+i\n",
    "print(k)\n"
   ]
  },
  {
   "cell_type": "code",
   "execution_count": 24,
   "id": "b5a07990",
   "metadata": {},
   "outputs": [
    {
     "name": "stdout",
     "output_type": "stream",
     "text": [
      "second smallest number in list is  0\n",
      "second biggest number in list is  65\n"
     ]
    }
   ],
   "source": [
    "# find the second smallest & biggest number in a list.\n",
    "\n",
    "l=[5,7,9,4,5,8,3,2,1]\n",
    "l.extend([0,10,24,65,-9])\n",
    "l.sort()\n",
    "print('second smallest number in list is ',l[1])\n",
    "print('second biggest number in list is ',l[-1])"
   ]
  },
  {
   "cell_type": "code",
   "execution_count": 25,
   "id": "e6983c3e",
   "metadata": {},
   "outputs": [
    {
     "name": "stdout",
     "output_type": "stream",
     "text": [
      "Enter somthing here: \n",
      "0\n"
     ]
    }
   ],
   "source": [
    "#find the length of a tuple. \n",
    "\n",
    "t=tuple(input('Enter somthing here: '))\n",
    "c=0\n",
    "for  i in t:\n",
    "    c+=1\n",
    "else:\n",
    "    print(c)\n",
    "    "
   ]
  },
  {
   "cell_type": "code",
   "execution_count": 26,
   "id": "6002c144",
   "metadata": {},
   "outputs": [
    {
     "name": "stdout",
     "output_type": "stream",
     "text": [
      "(8, 5, 2, 7, 9, 8, 5)\n"
     ]
    }
   ],
   "source": [
    "#reverse a tuple\n",
    "\n",
    "m=(5,8,9,7,2,5,8)\n",
    "k=list(m)\n",
    "k.reverse()\n",
    "m=tuple(k)\n",
    "print(m)"
   ]
  },
  {
   "cell_type": "code",
   "execution_count": 27,
   "id": "259df54f",
   "metadata": {},
   "outputs": [
    {
     "name": "stdout",
     "output_type": "stream",
     "text": [
      "[5, 8, 9, 20, 51, 6, 4, 2]\n"
     ]
    }
   ],
   "source": [
    "#remove duplicates from a list. \n",
    "\n",
    "k=[5,8,9,20,51,5,6,5,8,4,5,2,4,]\n",
    "s=[]\n",
    "for i in k:\n",
    "    if i not in s:\n",
    "        s.append(i)\n",
    "else:\n",
    "    print(s)"
   ]
  },
  {
   "cell_type": "code",
   "execution_count": 28,
   "id": "615b0bbe",
   "metadata": {},
   "outputs": [
    {
     "name": "stdout",
     "output_type": "stream",
     "text": [
      "list is not empty\n"
     ]
    }
   ],
   "source": [
    "#check a list is empty or not. \n",
    "\n",
    "k=[5,8]\n",
    "s=0\n",
    "for i in k:\n",
    "    s+=1\n",
    "if s==0:\n",
    "  print(\"list is empty\")\n",
    "else:\n",
    "  print('list is not empty')"
   ]
  },
  {
   "cell_type": "code",
   "execution_count": 29,
   "id": "8a72fa9b",
   "metadata": {},
   "outputs": [
    {
     "name": "stdout",
     "output_type": "stream",
     "text": [
      "[3, 2, 6, 5, 4, 9, 8, 5]\n"
     ]
    }
   ],
   "source": [
    "#reverse a list\n",
    "\n",
    "d=[5,8,9,4,5,6,2,3]\n",
    "d.reverse()\n",
    "print(d)"
   ]
  },
  {
   "cell_type": "code",
   "execution_count": 30,
   "id": "11570fab",
   "metadata": {},
   "outputs": [
    {
     "name": "stdout",
     "output_type": "stream",
     "text": [
      "largest number is  9\n",
      "smallest number is  4\n",
      "sum of all from a list is 33\n"
     ]
    }
   ],
   "source": [
    "#largest number, smallest num and sum of all from a list.\n",
    "\n",
    "s=[4,5,6,9,8,5]\n",
    "n=0\n",
    "s.sort()\n",
    "for i in range(1,len(s)):\n",
    "    n=n+s[i]\n",
    "else:\n",
    "    print('largest number is ',s[-1])\n",
    "    print('smallest number is ', s[0])\n",
    "    print('sum of all from a list is',n)"
   ]
  },
  {
   "cell_type": "code",
   "execution_count": 31,
   "id": "90f8e491",
   "metadata": {},
   "outputs": [
    {
     "name": "stdout",
     "output_type": "stream",
     "text": [
      "5\n",
      "4\n",
      "6\n",
      "9\n",
      "8\n",
      "2\n",
      "3\n",
      "1\n"
     ]
    }
   ],
   "source": [
    "#get unique values from a list \n",
    "\n",
    "x=[5,4,6,9,8,5,2,3,2,1,5,4,5,6,2,5,6,5]\n",
    "new_list=[]\n",
    "for  i  in x:\n",
    "    if i not in new_list:\n",
    "        new_list.append(i)\n",
    "for m in new_list:\n",
    "    print(m)\n",
    "    "
   ]
  },
  {
   "cell_type": "code",
   "execution_count": 32,
   "id": "d337cfc9",
   "metadata": {},
   "outputs": [
    {
     "name": "stdout",
     "output_type": "stream",
     "text": [
      "7\n",
      "8\n",
      "9\n",
      "5\n"
     ]
    }
   ],
   "source": [
    "#split a list into different variables. \n",
    "\n",
    "name=[7,8,9,5]\n",
    "st1,st2,st3,st4=name\n",
    "print(st1)\n",
    "print(st2)\n",
    "print(st3)\n",
    "print(st4)"
   ]
  },
  {
   "cell_type": "code",
   "execution_count": 33,
   "id": "0c5c1a8b",
   "metadata": {},
   "outputs": [
    {
     "name": "stdout",
     "output_type": "stream",
     "text": [
      "('naresh', 5, 6, 7, 5.8)\n"
     ]
    }
   ],
   "source": [
    "# tuple with different data types.\n",
    "\n",
    "t=('naresh',5,6,7,5.8)\n",
    "print(t)"
   ]
  },
  {
   "cell_type": "code",
   "execution_count": 34,
   "id": "99bc571f",
   "metadata": {},
   "outputs": [
    {
     "name": "stdout",
     "output_type": "stream",
     "text": [
      "Enter a value to find in tuple: \n",
      "False\n"
     ]
    }
   ],
   "source": [
    "#check whether an element exists within a tuple. \n",
    "\n",
    "m=('t','u','p','l','e','8','5','6')\n",
    "s=input('Enter a value to find in tuple: ')\n",
    "k = s in m\n",
    "print(k)"
   ]
  },
  {
   "cell_type": "code",
   "execution_count": 35,
   "id": "b7ca5f18",
   "metadata": {},
   "outputs": [
    {
     "name": "stdout",
     "output_type": "stream",
     "text": [
      "(5, 8, 9, 4, 'r', 'd', 'e')\n"
     ]
    }
   ],
   "source": [
    "# convert a list to a tuple.\n",
    "\n",
    "l=[5,8,9,4,'r','d','e']\n",
    "t=tuple(l)\n",
    "print(t)"
   ]
  },
  {
   "cell_type": "code",
   "execution_count": null,
   "id": "d5b6885b",
   "metadata": {},
   "outputs": [],
   "source": [
    "#Find The Repeated Items Of A Tuple.\n",
    "\n",
    "t=(5,7,8,9,6,5,4,2,5,6,2,4,5)\n",
    "t2=int(input('Enter to find value in tuple: '))\n",
    "k=t.count(t2)\n",
    "if k>1:\n",
    "    print(f' value {t2} is repeating for {k} time')\n",
    "elif k==1:\n",
    "    print(f' value {t2} is not repeating')\n",
    "else:\n",
    "    print(f'value {t2} is not available in tuple')"
   ]
  },
  {
   "cell_type": "code",
   "execution_count": null,
   "id": "eb71f2ba",
   "metadata": {},
   "outputs": [],
   "source": [
    "#Remove an empty tuple(s) from a list of tuples.\n",
    "\n",
    "t=[(5,4,4),( ), (5,6,3),( ), (6,5,1),( )]\n",
    "for i in t:\n",
    "    if len(i)==0:\n",
    "        t.remove(i)\n",
    "else:\n",
    "    print(t)"
   ]
  },
  {
   "cell_type": "code",
   "execution_count": null,
   "id": "0f486b7f",
   "metadata": {},
   "outputs": [],
   "source": [
    "##unzip a list of tuples into individual lists.\n",
    "\n",
    "l = [(1,2,4), (3,4,0 ), (8,9,7)]\n",
    "k=zip(*l)\n",
    "k=tuple(k)\n",
    "print(k)"
   ]
  },
  {
   "cell_type": "code",
   "execution_count": null,
   "id": "a7fb2cf3",
   "metadata": {},
   "outputs": [],
   "source": [
    "#sort (ascending to descending) a dictionary by value.\n",
    "d=dict()\n",
    "d.update({'name':'naresh','class':'python','from':'maninagar'})\n",
    "k=d.values()\n",
    "m=list(k)\n",
    "s=sorted(m)\n",
    "print(s)"
   ]
  },
  {
   "cell_type": "code",
   "execution_count": null,
   "id": "69012e2a",
   "metadata": {},
   "outputs": [],
   "source": [
    "# dictionaries to create a new one\n",
    "\n",
    "a={'name':'naresh','sub':'python'}\n",
    "b={'time':'11:30 AM'}\n",
    "c={}\n",
    "for i in(a,b):\n",
    "    c.update(i)\n",
    "print(c)"
   ]
  },
  {
   "cell_type": "code",
   "execution_count": null,
   "id": "a288cc2b",
   "metadata": {},
   "outputs": [],
   "source": [
    "#check if a given key already exists in a dictionary. \n",
    "m={'name':'naresh','class':'python','place':'maninagar'}\n",
    "s=input()\n",
    "if s in m:\n",
    "    print('Already exists')\n",
    "else:\n",
    "    print('a new key')"
   ]
  },
  {
   "cell_type": "code",
   "execution_count": null,
   "id": "fc1c24d5",
   "metadata": {},
   "outputs": [],
   "source": [
    "#Traverse Through A Dictionary Object In Python?\n",
    "r={'institute':'tops','place':'maninagar station','sub':'all type programming language'}\n",
    "for i , m in r.items():\n",
    "    print(i,'=',m)"
   ]
  },
  {
   "cell_type": "code",
   "execution_count": null,
   "id": "ab39f6f5",
   "metadata": {},
   "outputs": [],
   "source": [
    "# merge two Python dictionaries \n",
    "\n",
    "a={'total PC':'10','place':'maninagar'}\n",
    "b={'faculty member':'13'}\n",
    "d=a.copy()\n",
    "d.update(b)\n",
    "print(d)"
   ]
  },
  {
   "cell_type": "code",
   "execution_count": null,
   "id": "21c8ed5f",
   "metadata": {},
   "outputs": [],
   "source": [
    "#map two lists into a dictionary \n",
    "\n",
    "name=['naresh','kailash','surendra']\n",
    "mobile=[956561,545416,455456]\n",
    "d=dict(zip(name,mobile))\n",
    "print(d)"
   ]
  },
  {
   "cell_type": "code",
   "execution_count": null,
   "id": "3136b786",
   "metadata": {},
   "outputs": [],
   "source": [
    "#check whether a number is in a given range\n",
    "\n",
    "s=int(input('Enter A (numeric) value: '))\n",
    "if s in range (4,15):\n",
    "    print(f'{s} in range')\n",
    "else:\n",
    "    print(f'{s} is out of given range')"
   ]
  },
  {
   "cell_type": "code",
   "execution_count": null,
   "id": "8af180c1",
   "metadata": {},
   "outputs": [],
   "source": [
    "n=int(input('enter a value: '))\n",
    "sum =0\n",
    "for i in (1,n):\n",
    "    if n % i == 0:\n",
    "        sum += i\n",
    "    return sum == n\n",
    "\n",
    "    "
   ]
  },
  {
   "cell_type": "code",
   "execution_count": 4,
   "id": "24826fdb",
   "metadata": {},
   "outputs": [
    {
     "name": "stdout",
     "output_type": "stream",
     "text": [
      "Enter a string: repaper\n",
      "passed string is palindrome\n"
     ]
    }
   ],
   "source": [
    "#passed string is palindrome or not\n",
    "s=input('Enter a string: ')\n",
    "r=s[::-1]\n",
    "if s==r:\n",
    "  print('passed string is palindrome')\n",
    "else:\n",
    "  print('not a palindrome')"
   ]
  },
  {
   "cell_type": "code",
   "execution_count": null,
   "id": "ecc9c5b0",
   "metadata": {},
   "outputs": [],
   "source": [
    "#returns sum of all divisors of a number \n",
    "\n",
    "n=int(input('Enter a value: '))\n",
    "a=0\n",
    "for i in range(1, n):\n",
    "  if n % i ==0:\n",
    "    a += i\n",
    "else:\n",
    "  print(a)"
   ]
  },
  {
   "cell_type": "code",
   "execution_count": null,
   "id": "c10bc9e1",
   "metadata": {},
   "outputs": [],
   "source": [
    "#maximum and minimum numbers from the specified decimal numbers.\n",
    "\n",
    "k=[2.5,6.5,3.2,1.9,0.5,5.7]\n",
    "k.sort()\n",
    "print(f'meximum num is {k[-1]} and minimum number is {k[0]}')"
   ]
  },
  {
   "cell_type": "code",
   "execution_count": null,
   "id": "e8916ad6",
   "metadata": {},
   "outputs": [],
   "source": [
    "#calculate the area of a parallelogram\n",
    "\n",
    "height=float(input('Enter height: '))\n",
    "base=float(input('Enter base: '))\n",
    "area= base * height\n",
    "print(f'area of parallelogram is:{area}')"
   ]
  },
  {
   "cell_type": "code",
   "execution_count": 1,
   "id": "30bc4286",
   "metadata": {},
   "outputs": [
    {
     "name": "stdout",
     "output_type": "stream",
     "text": [
      "7\n",
      " not perfect\n"
     ]
    }
   ],
   "source": [
    "#check whether a number is perfect or not. \n",
    "\n",
    "s=int(input())\n",
    "k=0\n",
    "for i in range(1,s):\n",
    "    if s%i== 0:\n",
    "        k+=i\n",
    "if k == s:\n",
    "    print('perfect number')\n",
    "else:\n",
    "    print(f' not perfect')"
   ]
  },
  {
   "cell_type": "code",
   "execution_count": 10,
   "id": "51e543cd",
   "metadata": {},
   "outputs": [
    {
     "name": "stdout",
     "output_type": "stream",
     "text": [
      "Enter degree: 70\n",
      "radian is 1.2222222222222223\n"
     ]
    }
   ],
   "source": [
    "#convert degree to radian \n",
    "pi=22/7\n",
    "degree=float(input('Enter degree: '))\n",
    "radian=((pi/180)*degree)\n",
    "print(f'radian is {radian}')\n"
   ]
  },
  {
   "cell_type": "code",
   "execution_count": null,
   "id": "671dd166",
   "metadata": {},
   "outputs": [],
   "source": []
  },
  {
   "cell_type": "code",
   "execution_count": null,
   "id": "7c17fb59",
   "metadata": {},
   "outputs": [],
   "source": []
  },
  {
   "cell_type": "code",
   "execution_count": null,
   "id": "5baf3b44",
   "metadata": {},
   "outputs": [],
   "source": []
  },
  {
   "cell_type": "code",
   "execution_count": null,
   "id": "6d0c463b",
   "metadata": {},
   "outputs": [],
   "source": []
  },
  {
   "cell_type": "code",
   "execution_count": null,
   "id": "54fa4cff",
   "metadata": {},
   "outputs": [],
   "source": []
  },
  {
   "cell_type": "code",
   "execution_count": null,
   "id": "d48a1cd4",
   "metadata": {},
   "outputs": [],
   "source": []
  },
  {
   "cell_type": "code",
   "execution_count": null,
   "id": "a8321a3b",
   "metadata": {},
   "outputs": [],
   "source": []
  },
  {
   "cell_type": "code",
   "execution_count": null,
   "id": "f7e9e691",
   "metadata": {},
   "outputs": [],
   "source": []
  },
  {
   "cell_type": "code",
   "execution_count": null,
   "id": "7a6ff390",
   "metadata": {},
   "outputs": [],
   "source": []
  },
  {
   "cell_type": "code",
   "execution_count": null,
   "id": "9dc7a803",
   "metadata": {},
   "outputs": [],
   "source": []
  },
  {
   "cell_type": "code",
   "execution_count": null,
   "id": "991d20c6",
   "metadata": {},
   "outputs": [],
   "source": []
  },
  {
   "cell_type": "code",
   "execution_count": null,
   "id": "0f35c35d",
   "metadata": {},
   "outputs": [],
   "source": []
  },
  {
   "cell_type": "code",
   "execution_count": null,
   "id": "14e074b8",
   "metadata": {},
   "outputs": [],
   "source": []
  },
  {
   "cell_type": "code",
   "execution_count": null,
   "id": "cc4a114c",
   "metadata": {},
   "outputs": [],
   "source": []
  }
 ],
 "metadata": {
  "kernelspec": {
   "display_name": "Python 3 (ipykernel)",
   "language": "python",
   "name": "python3"
  },
  "language_info": {
   "codemirror_mode": {
    "name": "ipython",
    "version": 3
   },
   "file_extension": ".py",
   "mimetype": "text/x-python",
   "name": "python",
   "nbconvert_exporter": "python",
   "pygments_lexer": "ipython3",
   "version": "3.9.12"
  }
 },
 "nbformat": 4,
 "nbformat_minor": 5
}
