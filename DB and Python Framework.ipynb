{
 "cells": [
  {
   "cell_type": "markdown",
   "id": "2be30bc0",
   "metadata": {},
   "source": [
    "# Why Django should be used for web-development? Explain how you can create a project in Django? "
   ]
  },
  {
   "cell_type": "markdown",
   "id": "1ab680db",
   "metadata": {},
   "source": [
    "### Django is an open-source framework for backend web applications based on Python — one of the top web development languages. Its main goals are simplicity, flexibility, reliability, and scalability. And when introduced to what is Django, Python and its features open up in a new way.\n",
    "\n",
    "### Use the django-admin tool to generate a project folder, the basic file templates, and manage.py, which serves as your project management script.\n",
    "### Use manage.py to create one or more applications\n",
    "### Register the new applications to include them in the project.\n",
    "### Hook up the url/path mapper for each application."
   ]
  },
  {
   "cell_type": "markdown",
   "id": "7617f353",
   "metadata": {},
   "source": [
    "# How to check installed version of django? "
   ]
  },
  {
   "cell_type": "markdown",
   "id": "10ec228a",
   "metadata": {},
   "source": [
    "### open a Python console and type\n",
    "### >>> import django\n",
    "### >>> django.VERSION\n",
    "### (2, 0, 0, 'final', 0)"
   ]
  },
  {
   "cell_type": "markdown",
   "id": "7d15081d",
   "metadata": {},
   "source": [
    "# Explain what does django-admin.py make messages command is used for? \n",
    "### Runs over the entire source tree of the current directory and pulls out all strings marked for translation. It creates (or updates) a message file in the conf/locale (in the Django tree) or locale (for project and application) directory. "
   ]
  },
  {
   "cell_type": "markdown",
   "id": "4368b8ce",
   "metadata": {},
   "source": [
    "# What is Django URLs?make program to create django urls\n",
    "### A request in Django first comes to urls.py and then goes to the matching function in views.py. Python functions in views.py take the web request from urls.py and give the web response to templates. It may go to the data access layer in models.py as per the queryset.\n",
    "\n",
    "#### from django.contrib import admin\n",
    "#### from django.urls import path, include\n",
    "#### urlpatterns = [\n",
    "#### path('admin/', admin.site.urls),\n",
    "#### path('', include('books.urls')),\n",
    "#### ]"
   ]
  },
  {
   "cell_type": "markdown",
   "id": "349c48fa",
   "metadata": {},
   "source": [
    "#  What is a QuerySet?Write program to create a new Post object in database: \n",
    "\n",
    "### A QuerySet is a collection of data from a database.\n",
    "### A QuerySet is built up as a list of objects.\n",
    "### QuerySets makes it easier to get the data you actually need, by allowing you to filter and order the data.\n",
    "\n"
   ]
  },
  {
   "cell_type": "markdown",
   "id": "8dc6469f",
   "metadata": {},
   "source": [
    "# Mention what command line can be used to load data into Django? \n",
    "### To load data into Django you have to use the command line Django-admin.py loaddata. The command line will searches the data and loads the contents of the named fixtures into the database."
   ]
  },
  {
   "cell_type": "markdown",
   "id": "024019fe",
   "metadata": {},
   "source": [
    "# explain what does django-admin.py make messages command is used for? \n",
    "### makemessages. Runs over the entire source tree of the current directory and pulls out all strings marked for translation. It creates (or updates) a message file in the conf/locale (in the Django tree) or locale (for project and application) directory."
   ]
  },
  {
   "cell_type": "markdown",
   "id": "c237ab32",
   "metadata": {},
   "source": [
    "# Make Django application to demonstrate following things o There will be 2 modules(Admin,Product manager) o Admin can add product name (ex.Product id and product name) ex. (1, Samsung), (2, Apple)...etc. Data should store in "
   ]
  },
  {
   "cell_type": "code",
   "execution_count": null,
   "id": "f67efe18",
   "metadata": {},
   "outputs": [],
   "source": [
    "#modules\n",
    "from django.db import models\n",
    "\n",
    "class Admin(models.Model):\n",
    "    Product_id=models.CharField(max_length=5)\n",
    "    Product_Name=models.CharField(max_lenght=50)\n",
    "    \n",
    "class Product_Manager(models.Model):\n",
    "    Admin=models.foreignkey(Admin, on_delete=models.CASCADE)\n",
    "    "
   ]
  },
  {
   "cell_type": "code",
   "execution_count": null,
   "id": "a95b546c",
   "metadata": {},
   "outputs": [],
   "source": []
  }
 ],
 "metadata": {
  "kernelspec": {
   "display_name": "Python 3 (ipykernel)",
   "language": "python",
   "name": "python3"
  },
  "language_info": {
   "codemirror_mode": {
    "name": "ipython",
    "version": 3
   },
   "file_extension": ".py",
   "mimetype": "text/x-python",
   "name": "python",
   "nbconvert_exporter": "python",
   "pygments_lexer": "ipython3",
   "version": "3.9.12"
  }
 },
 "nbformat": 4,
 "nbformat_minor": 5
}
