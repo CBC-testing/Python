{
 "cells": [
  {
   "cell_type": "code",
   "execution_count": 11,
   "id": "e3c964a5",
   "metadata": {},
   "outputs": [
    {
     "name": "stdout",
     "output_type": "stream",
     "text": [
      "Enter 1st number: 12\n",
      "Enter 2nd number: 23\n",
      "Enter 3rd number: 12\n",
      "sum=0\n"
     ]
    }
   ],
   "source": [
    "#two values are equal sum will be zero.\n",
    "\n",
    "a=int(input('Enter 1st number: '))\n",
    "b=int(input('Enter 2nd number: '))\n",
    "c=int(input('Enter 3rd number: '))\n",
    "if a==b or b==c or a==c:\n",
    "    print('sum=0')\n",
    "else:\n",
    "    sum=a+b+c\n",
    "    print((a+b+c))"
   ]
  },
  {
   "cell_type": "code",
   "execution_count": 17,
   "id": "0500b4f6",
   "metadata": {},
   "outputs": [
    {
     "name": "stdout",
     "output_type": "stream",
     "text": [
      "Enter a letter: l\n",
      "l is not vowel\n"
     ]
    }
   ],
   "source": [
    "#vowels or not\n",
    "\n",
    "a=input('Enter a letter: ')\n",
    "if a=='a' or a=='e'or a=='i' or a=='o' or a=='u':\n",
    "    print(f'{a} is vowel')\n",
    "else:\n",
    "    print(f'{a} is not vowel')"
   ]
  },
  {
   "cell_type": "code",
   "execution_count": 15,
   "id": "67b658e5",
   "metadata": {},
   "outputs": [
    {
     "data": {
      "text/plain": [
       "str"
      ]
     },
     "execution_count": 15,
     "metadata": {},
     "output_type": "execute_result"
    }
   ],
   "source": []
  },
  {
   "cell_type": "code",
   "execution_count": 24,
   "id": "de823572",
   "metadata": {},
   "outputs": [
    {
     "name": "stdout",
     "output_type": "stream",
     "text": [
      "Enter 1st number: 5\n",
      "enter 2nd number: 8\n",
      "before swapping a=5 b=8\n",
      "after swapping a=8 b=5\n"
     ]
    }
   ],
   "source": [
    "#swapping value with temp keyword\n",
    "\n",
    "a=int(input('Enter 1st number: '))\n",
    "b=int(input('enter 2nd number: '))\n",
    "print(f'before swapping a={a} b={b}')\n",
    "temp=a\n",
    "a=b\n",
    "b=temp\n",
    "print(f'after swapping a={a} b={b}')\n",
    "\n"
   ]
  },
  {
   "cell_type": "code",
   "execution_count": 29,
   "id": "63263826",
   "metadata": {},
   "outputs": [
    {
     "name": "stdout",
     "output_type": "stream",
     "text": [
      "Enter a paragraph: naresh kumar\n",
      "12\n"
     ]
    }
   ],
   "source": [
    "#string_length\n",
    "\n",
    "r=input('Enter a paragraph: ')\n",
    "k=len(r)\n",
    "print(k)"
   ]
  },
  {
   "cell_type": "code",
   "execution_count": 31,
   "id": "4c9464f4",
   "metadata": {},
   "outputs": [
    {
     "name": "stdout",
     "output_type": "stream",
     "text": [
      "Enter A Number: 3\n",
      "This Number Is Odd\n"
     ]
    }
   ],
   "source": [
    "# odd_even\n",
    "\n",
    "number = int (input(\"Enter A Number: \"))\n",
    "if (number % 2) == 0:\n",
    "  print(\"This number is Even\")\n",
    "else:\n",
    "  print(\"This Number Is Odd\")"
   ]
  },
  {
   "cell_type": "code",
   "execution_count": null,
   "id": "fd624f28",
   "metadata": {},
   "outputs": [],
   "source": [
    "# Biggest  number \n",
    "\n",
    "l=17\n",
    "m=14\n",
    "n=19\n",
    "if l > m:\n",
    "    if l > n:\n",
    "        print('l is a biggest number')\n",
    "    else:\n",
    "        print('n is a biggest number')\n",
    "else:\n",
    "    print('m is a biggest number')"
   ]
  }
 ],
 "metadata": {
  "kernelspec": {
   "display_name": "Python 3 (ipykernel)",
   "language": "python",
   "name": "python3"
  },
  "language_info": {
   "codemirror_mode": {
    "name": "ipython",
    "version": 3
   },
   "file_extension": ".py",
   "mimetype": "text/x-python",
   "name": "python",
   "nbconvert_exporter": "python",
   "pygments_lexer": "ipython3",
   "version": "3.9.12"
  }
 },
 "nbformat": 4,
 "nbformat_minor": 5
}
