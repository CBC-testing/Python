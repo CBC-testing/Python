{
 "cells": [
  {
   "cell_type": "code",
   "execution_count": 12,
   "id": "5657093b",
   "metadata": {},
   "outputs": [
    {
     "name": "stdout",
     "output_type": "stream",
     "text": [
      "Enter 1st number: 5\n",
      "Enter 2nd number: 4\n",
      "Enter 3rd number: 8\n",
      "17\n"
     ]
    }
   ],
   "source": [
    "#two values are equal sum will be zero.\n",
    "\n",
    "a=int(input('Enter 1st number: '))\n",
    "b=int(input('Enter 2nd number: '))\n",
    "c=int(input('Enter 3rd number: '))\n",
    "if a==b or b==c or a==c:\n",
    "    print('sum=0')\n",
    "else:\n",
    "    sum=a+b+c\n",
    "    print(sum)"
   ]
  },
  {
   "cell_type": "code",
   "execution_count": 17,
   "id": "aac3d0ad",
   "metadata": {},
   "outputs": [
    {
     "name": "stdout",
     "output_type": "stream",
     "text": [
      "Enter a letter: l\n",
      "l is not vowel\n"
     ]
    }
   ],
   "source": [
    "#vowels or not\n",
    "\n",
    "a=input('Enter a letter: ')\n",
    "if a=='a' or a=='e'or a=='i' or a=='o' or a=='u':\n",
    "    print(f'{a} is vowel')\n",
    "else:\n",
    "    print(f'{a} is not vowel')"
   ]
  },
  {
   "cell_type": "code",
   "execution_count": 15,
   "id": "08ef1c1d",
   "metadata": {},
   "outputs": [
    {
     "data": {
      "text/plain": [
       "str"
      ]
     },
     "execution_count": 15,
     "metadata": {},
     "output_type": "execute_result"
    }
   ],
   "source": []
  },
  {
   "cell_type": "code",
   "execution_count": 24,
   "id": "b57e38e4",
   "metadata": {},
   "outputs": [
    {
     "name": "stdout",
     "output_type": "stream",
     "text": [
      "Enter 1st number: 5\n",
      "enter 2nd number: 8\n",
      "before swapping a=5 b=8\n",
      "after swapping a=8 b=5\n"
     ]
    }
   ],
   "source": [
    "#swapping value with temp keyword\n",
    "\n",
    "a=int(input('Enter 1st number: '))\n",
    "b=int(input('enter 2nd number: '))\n",
    "print(f'before swapping a={a} b={b}')\n",
    "temp=a\n",
    "a=b\n",
    "b=temp\n",
    "print(f'after swapping a={a} b={b}')\n",
    "\n"
   ]
  },
  {
   "cell_type": "code",
   "execution_count": 29,
   "id": "81da44e5",
   "metadata": {},
   "outputs": [
    {
     "name": "stdout",
     "output_type": "stream",
     "text": [
      "Enter a paragraph: naresh kumar\n",
      "12\n"
     ]
    }
   ],
   "source": [
    "#string_length\n",
    "\n",
    "r=input('Enter a paragraph: ')\n",
    "k=len(r)\n",
    "print(k)"
   ]
  },
  {
   "cell_type": "code",
   "execution_count": 31,
   "id": "5dae4031",
   "metadata": {},
   "outputs": [
    {
     "name": "stdout",
     "output_type": "stream",
     "text": [
      "Enter A Number: 3\n",
      "This Number Is Odd\n"
     ]
    }
   ],
   "source": [
    "# odd_even\n",
    "\n",
    "number = int (input(\"Enter A Number: \"))\n",
    "if (number % 2) == 0:\n",
    "  print(\"This number is Even\")\n",
    "else:\n",
    "  print(\"This Number Is Odd\")"
   ]
  },
  {
   "cell_type": "code",
   "execution_count": 32,
   "id": "75045c7d",
   "metadata": {},
   "outputs": [
    {
     "name": "stdout",
     "output_type": "stream",
     "text": [
      "n is a biggest number\n"
     ]
    }
   ],
   "source": [
    "# Biggest  number \n",
    "\n",
    "l=17\n",
    "m=14\n",
    "n=19\n",
    "if l > m:\n",
    "    if l > n:\n",
    "        print('l is a biggest number')\n",
    "    else:\n",
    "        print('n is a biggest number')\n",
    "else:\n",
    "    print('m is a biggest number')"
   ]
  },
  {
   "cell_type": "code",
   "execution_count": 4,
   "id": "2b653c6e",
   "metadata": {},
   "outputs": [
    {
     "name": "stdout",
     "output_type": "stream",
     "text": [
      "Enter something here: hgy h h\n",
      "3\n"
     ]
    }
   ],
   "source": [
    "#to find word in string\n",
    "string=input('Enter something here: ')\n",
    "f=' '\n",
    "c=0\n",
    "for i in string:\n",
    "    if i==f:\n",
    "        c +=1\n",
    "else:\n",
    "  print(c+1)"
   ]
  },
  {
   "cell_type": "code",
   "execution_count": 5,
   "id": "37dd06f3",
   "metadata": {},
   "outputs": [
    {
     "name": "stdout",
     "output_type": "stream",
     "text": [
      "Enter 1st Value: 5\n",
      "Enter 2nd Value: 3\n",
      "False\n"
     ]
    }
   ],
   "source": [
    "#true if the two given integer values are equal or their sum or difference is 5.\n",
    "\n",
    "x=int(input('Enter 1st Value: '))\n",
    "y=int(input('Enter 2nd Value: '))\n",
    "if x==y or (x+y)==5 or (x-y)==5:\n",
    "    print(True)\n",
    "else:\n",
    "    print(False)"
   ]
  },
  {
   "cell_type": "code",
   "execution_count": 7,
   "id": "e549f4ff",
   "metadata": {},
   "outputs": [
    {
     "name": "stdout",
     "output_type": "stream",
     "text": [
      "Enter a number: 10\n",
      "10 is positive int. 55.0\n"
     ]
    }
   ],
   "source": [
    "# sum of the first n positive integers.\n",
    "k=int(input('Enter a number: '))\n",
    "m=((k*(k+1))/2)\n",
    "print(f'{k} is positive int. {m}')"
   ]
  },
  {
   "cell_type": "code",
   "execution_count": 8,
   "id": "c89198e2",
   "metadata": {},
   "outputs": [
    {
     "name": "stdout",
     "output_type": "stream",
     "text": [
      "Enter something here: hujdnf ndsfnhjdss ndsjfnndsjf jdnfjds\n",
      "37\n"
     ]
    }
   ],
   "source": [
    "#to calculate the length of a string\n",
    "k=input('Enter something here: ')\n",
    "s=0\n",
    "for i in k:\n",
    "    s += 1\n",
    "else:\n",
    "    print(s)"
   ]
  },
  {
   "cell_type": "code",
   "execution_count": 11,
   "id": "dd3a0819",
   "metadata": {},
   "outputs": [
    {
     "name": "stdout",
     "output_type": "stream",
     "text": [
      "0\n",
      "1\n",
      "2\n",
      "3\n",
      "4\n",
      "6\n",
      "7\n",
      "8\n",
      "9\n"
     ]
    }
   ],
   "source": [
    "#continue statement in python\n",
    "for i in range(10):\n",
    "    if i==5:\n",
    "        continue\n",
    "    else:\n",
    "        print(i)"
   ]
  },
  {
   "cell_type": "code",
   "execution_count": 12,
   "id": "322ff4eb",
   "metadata": {},
   "outputs": [
    {
     "name": "stdout",
     "output_type": "stream",
     "text": [
      "Enter a word: typing\n",
      "typly\n"
     ]
    }
   ],
   "source": [
    "#add 'ing'.already ends with 'ing' then add'ly'\n",
    "k=input('Enter a word: ')\n",
    "r=len(k)\n",
    "if r>3:\n",
    "    if k.endswith('ing'):\n",
    "        s=k.replace('ing','ly')\n",
    "        print(s)\n",
    "    else:\n",
    "        k+='ing'\n",
    "        print(k)"
   ]
  },
  {
   "cell_type": "code",
   "execution_count": null,
   "id": "18f15ca7",
   "metadata": {},
   "outputs": [],
   "source": [
    "# replace 'not poor' to 'good'\n",
    "a=input('Enter Something here: ')\n",
    "k=a.replace('not poor','good')\n",
    "print(k)"
   ]
  },
  {
   "cell_type": "code",
   "execution_count": 4,
   "id": "f709a3bc",
   "metadata": {},
   "outputs": [
    {
     "name": "stdout",
     "output_type": "stream",
     "text": [
      "hello naresh you are hire\n"
     ]
    }
   ],
   "source": [
    "#insert a string in the middle of a string\n",
    "k='hello ..... you are hire'\n",
    "s='naresh'\n",
    "print(f'{k[:5]} {s} {k[12:]}')\n"
   ]
  },
  {
   "cell_type": "code",
   "execution_count": 1,
   "id": "2aeeb172",
   "metadata": {},
   "outputs": [
    {
     "name": "stdout",
     "output_type": "stream",
     "text": [
      "Enter something here: naresh k\n",
      "k hseran\n"
     ]
    }
   ],
   "source": [
    "#reverses a string if its length is a multiple of 4.\n",
    "s=input('Enter something here: ')\n",
    "k=len(s)\n",
    "if k % 4 == 0:\n",
    "    print(s[::-1])\n",
    "    \n",
    "else:\n",
    "    print('try again with other value')"
   ]
  },
  {
   "cell_type": "code",
   "execution_count": 8,
   "id": "b8aa893e",
   "metadata": {},
   "outputs": [
    {
     "name": "stdout",
     "output_type": "stream",
     "text": [
      "Enter a string: lkj\n",
      "lkkj\n"
     ]
    }
   ],
   "source": [
    "#2 and the last 2 chars from a given a string.\n",
    "\n",
    "s=input('Enter a string: ')\n",
    "k=len(s)\n",
    "if k > 2:\n",
    "    print(s[:2]+s[-2:])\n",
    "else:\n",
    "    pass\n",
    "    "
   ]
  },
  {
   "cell_type": "code",
   "execution_count": null,
   "id": "822c8aad",
   "metadata": {},
   "outputs": [],
   "source": [
    "#separated by a space and swap the first two characters of each string\n",
    "\n",
    "k=input()\n",
    "m=input()\n",
    "l=' '\n",
    "print(m[:2]+ l +k[2:])\n",
    "print(k[:2]+ l +m[2:])"
   ]
  },
  {
   "cell_type": "code",
   "execution_count": null,
   "id": "78520380",
   "metadata": {},
   "outputs": [],
   "source": [
    "# Fibonacci series of given range.\n",
    "a=int(input())\n",
    "b=0\n",
    "c=1\n",
    "for i in range(2, a):\n",
    "    d=b+c\n",
    "    b=c\n",
    "    c=d\n",
    "    print(d)"
   ]
  },
  {
   "cell_type": "code",
   "execution_count": null,
   "id": "0b9c083b",
   "metadata": {},
   "outputs": [],
   "source": [
    "# Factorial number of given number\n",
    "\n",
    "num=int(input('Enter a number: '))\n",
    "factorial=1\n",
    "if num<0:\n",
    "  print(\"sorry factorial does not exits for nagetive number\")\n",
    "elif num==0:\n",
    "  print(\"the factorial of 0 is 1\")\n",
    "else:\n",
    "  for i in range(1, num+1):\n",
    "    factorial = factorial*i\n",
    "  print(\"the factorial of\",num,\"is\",factorial)"
   ]
  },
  {
   "cell_type": "code",
   "execution_count": null,
   "id": "0c68b79d",
   "metadata": {},
   "outputs": [],
   "source": []
  }
 ],
 "metadata": {
  "kernelspec": {
   "display_name": "Python 3 (ipykernel)",
   "language": "python",
   "name": "python3"
  },
  "language_info": {
   "codemirror_mode": {
    "name": "ipython",
    "version": 3
   },
   "file_extension": ".py",
   "mimetype": "text/x-python",
   "name": "python",
   "nbconvert_exporter": "python",
   "pygments_lexer": "ipython3",
   "version": "3.9.12"
  }
 },
 "nbformat": 4,
 "nbformat_minor": 5
}
