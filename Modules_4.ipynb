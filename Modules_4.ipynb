{
 "cells": [
  {
   "cell_type": "markdown",
   "id": "b5bc6391",
   "metadata": {},
   "source": [
    "## What is File function in python? What is keywords to create and write file. "
   ]
  },
  {
   "cell_type": "markdown",
   "id": "0e64cf25",
   "metadata": {},
   "source": [
    "#### A file object allows us to use, access and manipulate all the user accessible files. One can read and write any such files.When a file operation fails for an I/O-related reason, the exception IOError is raised."
   ]
  },
  {
   "cell_type": "markdown",
   "id": "77e6fcc1",
   "metadata": {},
   "source": [
    "#### Creat and write a  file"
   ]
  },
  {
   "cell_type": "code",
   "execution_count": 9,
   "id": "0d995df8",
   "metadata": {},
   "outputs": [
    {
     "ename": "UnsupportedOperation",
     "evalue": "not readable",
     "output_type": "error",
     "traceback": [
      "\u001b[1;31m---------------------------------------------------------------------------\u001b[0m",
      "\u001b[1;31mUnsupportedOperation\u001b[0m                      Traceback (most recent call last)",
      "Input \u001b[1;32mIn [9]\u001b[0m, in \u001b[0;36m<cell line: 3>\u001b[1;34m()\u001b[0m\n\u001b[0;32m      1\u001b[0m file_obj\u001b[38;5;241m=\u001b[39m\u001b[38;5;28mopen\u001b[39m(\u001b[38;5;124m'\u001b[39m\u001b[38;5;124mmodule_practice.txt\u001b[39m\u001b[38;5;124m'\u001b[39m,\u001b[38;5;124m'\u001b[39m\u001b[38;5;124mx\u001b[39m\u001b[38;5;124m'\u001b[39m) \u001b[38;5;66;03m#creat a file\u001b[39;00m\n\u001b[0;32m      2\u001b[0m file_obj\u001b[38;5;241m.\u001b[39mwrite(\u001b[38;5;124m'\u001b[39m\u001b[38;5;124mhello this is demo for write data in file\u001b[39m\u001b[38;5;124m'\u001b[39m) \u001b[38;5;66;03m#write data to the created file\u001b[39;00m\n\u001b[1;32m----> 3\u001b[0m \u001b[38;5;28mprint\u001b[39m(\u001b[43mfile_obj\u001b[49m\u001b[38;5;241;43m.\u001b[39;49m\u001b[43mread\u001b[49m\u001b[43m(\u001b[49m\u001b[43m)\u001b[49m)\n\u001b[0;32m      4\u001b[0m file_obj\u001b[38;5;241m.\u001b[39mclose()\n",
      "\u001b[1;31mUnsupportedOperation\u001b[0m: not readable"
     ]
    }
   ],
   "source": [
    "file_obj=open('module_practice.txt','x') #creat a file\n",
    "file_obj.write('hello this is demo for write data in file') #write data to the created file\n",
    "print(file_obj.read())\n",
    "file_obj.close()"
   ]
  },
  {
   "cell_type": "code",
   "execution_count": 5,
   "id": "10cffab9",
   "metadata": {},
   "outputs": [],
   "source": []
  },
  {
   "cell_type": "markdown",
   "id": "ee678cfd",
   "metadata": {},
   "source": [
    "## Write a Python program to read an entire text file. "
   ]
  },
  {
   "cell_type": "code",
   "execution_count": 2,
   "id": "de9f15f8",
   "metadata": {},
   "outputs": [
    {
     "name": "stdout",
     "output_type": "stream",
     "text": [
      "hello this is demo for write data in file\n"
     ]
    }
   ],
   "source": [
    "file_obj=open('module_practice.txt')\n",
    "print(file_obj.read())\n",
    "file_obj.close()"
   ]
  },
  {
   "cell_type": "code",
   "execution_count": 13,
   "id": "cdf7ae1a",
   "metadata": {},
   "outputs": [],
   "source": []
  },
  {
   "cell_type": "markdown",
   "id": "dd46afa5",
   "metadata": {},
   "source": [
    "## Write a Python program to append text to a file and display the text."
   ]
  },
  {
   "cell_type": "code",
   "execution_count": 8,
   "id": "44d2ab96",
   "metadata": {},
   "outputs": [
    {
     "name": "stdout",
     "output_type": "stream",
     "text": [
      "hello this is demo for write data in file\n",
      " its use to open and append data to end of file data\n",
      " its use to open and append data to end of file data\n",
      " its use to open and append data to end of file data\n",
      " its use to open and append data to end of file data\n"
     ]
    }
   ],
   "source": [
    "file_obj=open('module_practice.txt','a+')\n",
    "file_obj.write('\\n its use to open and append data to end of file data')\n",
    "file_obj.seek(0)\n",
    "print(file_obj.read())\n",
    "file_obj.close()"
   ]
  },
  {
   "cell_type": "markdown",
   "id": "52316493",
   "metadata": {},
   "source": [
    "## Write a Python program to read first n lines of a file. "
   ]
  },
  {
   "cell_type": "code",
   "execution_count": 10,
   "id": "d590e2d0",
   "metadata": {},
   "outputs": [
    {
     "name": "stdout",
     "output_type": "stream",
     "text": [
      "hello this is demo for write data in file\n",
      "\n"
     ]
    }
   ],
   "source": [
    "file_obj=open('module_practice.txt') ## Bydefault open in read mode\n",
    "print(file_obj.readline())\n",
    "file_obj.close()"
   ]
  },
  {
   "cell_type": "markdown",
   "id": "45dba4dc",
   "metadata": {},
   "source": [
    "## Write a Python program to read last n lines of a file. "
   ]
  },
  {
   "cell_type": "code",
   "execution_count": 3,
   "id": "a99ca356",
   "metadata": {},
   "outputs": [
    {
     "name": "stdout",
     "output_type": "stream",
     "text": [
      "[' its use to open and append data to end of file data']\n"
     ]
    }
   ],
   "source": [
    "file_obj=open('module_practice.txt')\n",
    "last_readline = file_obj.readlines()\n",
    "print(last_readline[-1:])\n",
    "file_obj.close()"
   ]
  },
  {
   "cell_type": "markdown",
   "id": "76a74d09",
   "metadata": {},
   "source": [
    "## Write a Python program to read a file line by line and store it into a list"
   ]
  },
  {
   "cell_type": "code",
   "execution_count": 5,
   "id": "6194da07",
   "metadata": {},
   "outputs": [
    {
     "name": "stdout",
     "output_type": "stream",
     "text": [
      "[['hello this is demo for write data in fileits use to open and append data to end of file data \\n', 'its use to open and append data to end of file data\\n', ' its use to open and append data to end of file data']]\n"
     ]
    }
   ],
   "source": [
    "a=list()\n",
    "file_obj=open('module_practice.txt')\n",
    "a.append(file_obj.readlines())\n",
    "print(a)\n",
    "file_obj.close()"
   ]
  },
  {
   "cell_type": "markdown",
   "id": "589e624c",
   "metadata": {},
   "source": [
    "## Write a Python program to read a file line by line store it into a variable."
   ]
  },
  {
   "cell_type": "code",
   "execution_count": 68,
   "id": "cc0e6b7d",
   "metadata": {},
   "outputs": [
    {
     "name": "stdout",
     "output_type": "stream",
     "text": [
      "hello this is demo for write data in fileits use to open and append data to end of file data \n",
      "its use to open and append data to end of file data\n",
      " its use to open and append data to end of file data\n"
     ]
    }
   ],
   "source": [
    "a=file_obj=open('module_practice.txt')\n",
    "b=''\n",
    "for  i  in range(1,100):\n",
    "    b=b+a.read(i)\n",
    "print(b)"
   ]
  },
  {
   "cell_type": "code",
   "execution_count": 69,
   "id": "ab6ce220",
   "metadata": {},
   "outputs": [],
   "source": [
    "file_obj.close()"
   ]
  },
  {
   "cell_type": "markdown",
   "id": "c5a5e0a9",
   "metadata": {},
   "source": [
    "## Write a Python program to copy the contents of a file to another file. "
   ]
  },
  {
   "cell_type": "code",
   "execution_count": 7,
   "id": "913aa906",
   "metadata": {},
   "outputs": [
    {
     "name": "stdout",
     "output_type": "stream",
     "text": [
      "hello this is demo for write data in fileits use to open and append data to end of file data \n",
      "its use to open and append data to end of file data\n",
      " its use to open and append data to end of file data\n"
     ]
    }
   ],
   "source": [
    "file_obj=open('module_practice.txt')\n",
    "c=file_obj.read()\n",
    "file_obj.close()\n",
    "file_obj=open('copy_file2.txt','x')\n",
    "file_obj.write(c)\n",
    "file_obj.close()\n",
    "file_obj=open('copy_file.txt')\n",
    "print(file_obj.read())\n",
    "file_obj.close()"
   ]
  },
  {
   "cell_type": "markdown",
   "id": "056551f3",
   "metadata": {},
   "source": [
    "## Write python program that user to enter only odd numbers, else will raise an exception"
   ]
  },
  {
   "cell_type": "code",
   "execution_count": 11,
   "id": "c29ca924",
   "metadata": {},
   "outputs": [
    {
     "name": "stdout",
     "output_type": "stream",
     "text": [
      "Enter A Number: 4\n"
     ]
    },
    {
     "ename": "ValueError",
     "evalue": "Invalid Number",
     "output_type": "error",
     "traceback": [
      "\u001b[1;31m---------------------------------------------------------------------------\u001b[0m",
      "\u001b[1;31mValueError\u001b[0m                                Traceback (most recent call last)",
      "Input \u001b[1;32mIn [11]\u001b[0m, in \u001b[0;36m<cell line: 2>\u001b[1;34m()\u001b[0m\n\u001b[0;32m      4\u001b[0m         \u001b[38;5;28mprint\u001b[39m(\u001b[38;5;124m'\u001b[39m\u001b[38;5;124mOdd Number\u001b[39m\u001b[38;5;124m'\u001b[39m)\n\u001b[0;32m      5\u001b[0m     \u001b[38;5;28;01melse\u001b[39;00m:\n\u001b[1;32m----> 6\u001b[0m         \u001b[38;5;28;01mraise\u001b[39;00m \u001b[38;5;167;01mValueError\u001b[39;00m (\u001b[38;5;124m'\u001b[39m\u001b[38;5;124mInvalid Number\u001b[39m\u001b[38;5;124m'\u001b[39m)\n\u001b[0;32m      7\u001b[0m \u001b[38;5;28;01melse\u001b[39;00m:\n\u001b[0;32m      8\u001b[0m     \u001b[38;5;28;01mraise\u001b[39;00m \u001b[38;5;167;01mTypeError\u001b[39;00m (\u001b[38;5;124m'\u001b[39m\u001b[38;5;124mEnter Only Numeric Value\u001b[39m\u001b[38;5;124m'\u001b[39m)\n",
      "\u001b[1;31mValueError\u001b[0m: Invalid Number"
     ]
    }
   ],
   "source": [
    "num=input('Enter A Number: ')\n",
    "if num.isnumeric():\n",
    "    if int(num)%2!=0:\n",
    "        print('Odd Number')\n",
    "    else:\n",
    "        raise ValueError ('Invalid Number')\n",
    "else:\n",
    "    raise TypeError ('Enter Only Numeric Value')"
   ]
  },
  {
   "cell_type": "markdown",
   "id": "80df0631",
   "metadata": {},
   "source": [
    "## When is the finally block executed?\n",
    "\n",
    "\n",
    "#### The finally keyword is used in try...except blocks. It defines a block of code to run when the try...except...else block is final.\n",
    "\n",
    "#### The finally block will be executed no matter if the try block raises an error or not.\n",
    "\n",
    "#### This can be useful to close objects and clean up resources.\n",
    "\n"
   ]
  },
  {
   "cell_type": "markdown",
   "id": "165279e1",
   "metadata": {},
   "source": [
    "## Can one block of except statements handle multiple exception? "
   ]
  },
  {
   "cell_type": "code",
   "execution_count": 17,
   "id": "b9b55473",
   "metadata": {},
   "outputs": [
    {
     "name": "stdout",
     "output_type": "stream",
     "text": [
      "\n",
      "5\n",
      "invalid literal for int() with base 10: ''\n"
     ]
    }
   ],
   "source": [
    "\n",
    "a=input()\n",
    "b=input()\n",
    "try:\n",
    "    print(int(a)/int(b))\n",
    "except Exception as e:\n",
    "    print(e)"
   ]
  },
  {
   "cell_type": "code",
   "execution_count": 3,
   "id": "06d4b69c",
   "metadata": {},
   "outputs": [
    {
     "name": "stdout",
     "output_type": "stream",
     "text": [
      "5\n",
      "0\n",
      "division by zero\n"
     ]
    }
   ],
   "source": [
    "\n",
    "a=input()\n",
    "b=input()\n",
    "try:\n",
    "    print(int(a)/int(b))\n",
    "except (NameError,ValueError,ZeroDivisionError) as e:\n",
    "    print(e)"
   ]
  },
  {
   "cell_type": "markdown",
   "id": "174848cd",
   "metadata": {},
   "source": [
    "## Explain Exception handling? What is an Error in Python?"
   ]
  },
  {
   "cell_type": "markdown",
   "id": "759b2c5f",
   "metadata": {},
   "source": [
    "#### An Exception is an error that happens during the execution of a program. Whenever there is an error, Python generates an exception that could be handled. It basically prevents the program from getting crashed.\n",
    "\n",
    "#### Errors are the problems in a program due to which the program will stop the execution. On the other hand, exceptions are raised when some internal events occur which changes the normal flow of the program. "
   ]
  },
  {
   "cell_type": "code",
   "execution_count": null,
   "id": "555171f7",
   "metadata": {},
   "outputs": [],
   "source": []
  },
  {
   "cell_type": "code",
   "execution_count": null,
   "id": "872e6994",
   "metadata": {},
   "outputs": [],
   "source": [
    "#### The finally block will be executed no matter if the try block raises an error or not.\n",
    "\n",
    "### This can be useful to close objects and clean up resources.\n",
    "\n"
   ]
  }
 ],
 "metadata": {
  "kernelspec": {
   "display_name": "Python 3 (ipykernel)",
   "language": "python",
   "name": "python3"
  },
  "language_info": {
   "codemirror_mode": {
    "name": "ipython",
    "version": 3
   },
   "file_extension": ".py",
   "mimetype": "text/x-python",
   "name": "python",
   "nbconvert_exporter": "python",
   "pygments_lexer": "ipython3",
   "version": "3.9.12"
  },
  "vscode": {
   "interpreter": {
    "hash": "2043299c89c8cd0b4d1a6f5cf4529bd58e6a4e0fe3181a25e0d328c821cdc5c5"
   }
  }
 },
 "nbformat": 4,
 "nbformat_minor": 5
}
